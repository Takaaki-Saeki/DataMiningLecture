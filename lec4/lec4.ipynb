{
 "cells": [
  {
   "cell_type": "markdown",
   "metadata": {},
   "source": [
    "# 課題4 テキストデータ分析\n",
    "## Q1\n",
    "\n",
    "$n$-次元ベクトル空間における、任意の2つのベクトル、$ \\vec{x}=(x_1,x_2,...,x_n)$、$\\vec{y}=(y_1,y_2,...,y_n)$、の間のcos類似度 $cos(X,Y)$ は以下のように定義される。\n",
    "\n",
    "$cos(X,Y) =  \\frac{\\vec{x}\\cdot \\vec{y}}{\\|x\\|_2\\|y\\|_2}=\\frac{\\Sigma^{n}_{i=1}{x_{i}y_{i}}}{\\sqrt{\\Sigma^{n}_{i=1}x_{i}^{2}}\\sqrt{\\Sigma^{n}_{i=1}y_{i}^{2}}}$\n",
    "\n",
    "入力ベクトル $\\vec{x}$, $\\vec{x}$ をそれぞれ`NumPy` の配列として引数で受け取り、それらのベクトル間のcos類似度を計算して返す関数 `cos_sim` を完成させる問題。"
   ]
  },
  {
   "cell_type": "code",
   "execution_count": 100,
   "metadata": {},
   "outputs": [],
   "source": [
    "import numpy as np"
   ]
  },
  {
   "cell_type": "code",
   "execution_count": 101,
   "metadata": {},
   "outputs": [],
   "source": [
    "def cos_similar(vec1, vec2):\n",
    "    return np.dot(vec1, vec2) / ((np.linalg.norm(vec1))*(np.linalg.norm(vec2)))"
   ]
  },
  {
   "cell_type": "code",
   "execution_count": 102,
   "metadata": {},
   "outputs": [
    {
     "name": "stdout",
     "output_type": "stream",
     "text": [
      "-1.0\n",
      "1.0\n",
      "0.0\n"
     ]
    }
   ],
   "source": [
    "print(cos_similar(np.array([1,0]), np.array([-1,0])))\n",
    "print(cos_similar(np.array([1,0]), np.array([1,0])))\n",
    "print(cos_similar(np.array([1,0]), np.array([0,-1])))"
   ]
  },
  {
   "cell_type": "markdown",
   "metadata": {},
   "source": [
    "## Q2\n",
    "\"course_list.csv\"を読み取り、各講義のベクトルを作成し、講義間のcos類似度を計算する。"
   ]
  },
  {
   "cell_type": "code",
   "execution_count": 103,
   "metadata": {},
   "outputs": [],
   "source": [
    "import json\n",
    "import csv\n",
    "import numpy as np\n",
    "import pandas as pd"
   ]
  },
  {
   "cell_type": "markdown",
   "metadata": {},
   "source": [
    "### Q2.1 \n",
    "\"course_list.csv\"ファイルを1行ずつ順番に読み込み、その各行を要素とするリストを作成して返す`course_list`関数を完成させる。作成されたリストは変数`courses`で受けとるものとする。"
   ]
  },
  {
   "cell_type": "code",
   "execution_count": 104,
   "metadata": {},
   "outputs": [],
   "source": [
    "def course_list():\n",
    "    courses = []\n",
    "    course_data = pd.read_csv('course_list.csv', header=None)\n",
    "    for i in range(course_data.shape[0]):\n",
    "        courses.append(course_data.loc[i, 0])\n",
    "    return courses"
   ]
  },
  {
   "cell_type": "code",
   "execution_count": 105,
   "metadata": {},
   "outputs": [],
   "source": [
    "courses =course_list()"
   ]
  },
  {
   "cell_type": "markdown",
   "metadata": {},
   "source": [
    "### Q2.2\n",
    "\"keyword_list\"には先ほどのcourst_listのキーワードが一語抜き出されたものが含まれている。\n",
    "\"keyword_list.csv\"ファイルを1行ずつ**順番に**読み込み、その各行を要素とするリストを作成して返す`vocab_list`関数を完成させよ。作成されたリストは変数`vocab`で受け取る。以降の処理では、リスト`vocab`のインデックスをその要素（単語）のIDとして扱う。リスト`vocab`は以降の処理における語彙となる。"
   ]
  },
  {
   "cell_type": "code",
   "execution_count": 106,
   "metadata": {},
   "outputs": [],
   "source": [
    "def vocab_list():\n",
    "    vocab = []\n",
    "    key_data = pd.read_csv(\"keyword_list.csv\", header=None)\n",
    "    for i in range(key_data.shape[0]):\n",
    "        vocab.append(key_data.loc[i, 0])\n",
    "    return vocab\n",
    "vocab = vocab_list()"
   ]
  },
  {
   "cell_type": "code",
   "execution_count": 107,
   "metadata": {},
   "outputs": [
    {
     "name": "stdout",
     "output_type": "stream",
     "text": [
      "978\n",
      "164\n"
     ]
    }
   ],
   "source": [
    "print(len(vocab))\n",
    "print(vocab.index('プログラミング'))"
   ]
  },
  {
   "cell_type": "markdown",
   "metadata": {},
   "source": [
    "### Q2.3\n",
    "リスト`courses`と`vocab`を引数で受け取り、単語のID（リスト`vocab`のその単語のインデックス）をキー、その単語のDF（Document Frequency)を値とする辞書を作成して返す`count_df`関数を作成する。作成された辞書は変数`df`で受け取る。この場合、ある単語のDF値はその単語を講義名に含む講義数に対応する。"
   ]
  },
  {
   "cell_type": "code",
   "execution_count": 129,
   "metadata": {},
   "outputs": [],
   "source": [
    "def count_df(_courses, _vocab):\n",
    "    id_list = []\n",
    "    df_list = []\n",
    "    for k in range(len(vocab)):\n",
    "        df_counter = 0\n",
    "        for i in range(len(courses)):\n",
    "            if vocab[k] in courses[i]:\n",
    "                df_counter += 1\n",
    "        id_list.append(k)\n",
    "        df_list.append(df_counter)\n",
    "    \n",
    "    df = df_list\n",
    "    return df\n",
    "\n",
    "df = count_df(courses, vocab)"
   ]
  },
  {
   "cell_type": "code",
   "execution_count": 132,
   "metadata": {},
   "outputs": [
    {
     "name": "stdout",
     "output_type": "stream",
     "text": [
      "978\n",
      "164 プログラミング 23\n"
     ]
    }
   ],
   "source": [
    "print(len(df))\n",
    "print(164, vocab[164], df[164])"
   ]
  },
  {
   "cell_type": "markdown",
   "metadata": {},
   "source": [
    "### Q2.4.1\n",
    "リスト`vocab`の各単語を次元とする講義ベクトルを考える。講義ベクトルの長さはリスト`vocab`の長さと等しく、リスト`vocab`のインデックス`i`の単語`vocab[i]`が講義名に含まれる時、講義ベクトルの`i`番目の要素は`1`、含まれなければ`0`とする。\n",
    "\n",
    "リスト`courses`と`vocab`を引数で受け取り、リスト`courses`の各講義のベクトルを行、リスト`vocab`の各単語を列とした`NumPy`の行列を作成して返す`lec_word_matrix`関数を完成させよ。作成した講義-単語行列は、講義（行）の講義名に単語（列）が含まれていれば、その要素が1であるような行列である。"
   ]
  },
  {
   "cell_type": "code",
   "execution_count": 134,
   "metadata": {},
   "outputs": [],
   "source": [
    "def lec_word_matrix(_courses, _vocab):\n",
    "    mat = np.zeros((len(courses), len(vocab)))\n",
    "    \n",
    "    for i in range(len(courses)):\n",
    "        for j in range(len(vocab)):\n",
    "            if vocab[j] in courses[i]:\n",
    "                mat[i][j] = 1\n",
    "    return mat"
   ]
  },
  {
   "cell_type": "code",
   "execution_count": 135,
   "metadata": {},
   "outputs": [
    {
     "data": {
      "text/plain": [
       "17731.0"
      ]
     },
     "execution_count": 135,
     "metadata": {},
     "output_type": "execute_result"
    }
   ],
   "source": [
    "np.sum(lec_word_matrix(courses, vocab))"
   ]
  },
  {
   "cell_type": "markdown",
   "metadata": {},
   "source": [
    "### Q2.4.2\n",
    "Q2.4.1で作成した講義-単語行列の各要素を、その講義の講義名に単語が含まれるか否かの1or0ではなく、その講義の講義名に単語が何回含まれるか（TF: Term Frequency)で表した行列を作成して返す`lec_word_tf_matrix`関数を完成させよ。"
   ]
  },
  {
   "cell_type": "code",
   "execution_count": 136,
   "metadata": {},
   "outputs": [],
   "source": [
    "def lec_word_tf_matrix(_courses, _vocab):\n",
    "    tf_mat = np.zeros((len(courses), len(vocab)))\n",
    "    \n",
    "    for i in range(len(courses)):\n",
    "        for j in range(len(vocab)):\n",
    "            if vocab[j] in courses[i]:\n",
    "                tf_mat[i][j] = courses[i].count(vocab[j])\n",
    "    return tf_mat"
   ]
  },
  {
   "cell_type": "markdown",
   "metadata": {},
   "source": [
    "### Q2.4.3\n",
    "Q2.4.2で作成した講義-単語行列の各要素（講義`i`の単語`j`の$TF_{ij}$）にその単語のIDF値を掛けたTFIDF値を要素とする行列を作成して返す`lec_word_tfidf_matrix`関数を完成させよ。\n",
    "\n",
    "ここで、講義`i`、単語`j`のTFIDF値は以下のように定義される。\n",
    "```Python\n",
    "TFIDF=TF_ij*log(すべての講義数/単語jのDF)=TF_ij*log(len(courses)/df[j])\n",
    "```"
   ]
  },
  {
   "cell_type": "code",
   "execution_count": 138,
   "metadata": {},
   "outputs": [],
   "source": [
    "def lec_word_tfidf_matrix(_courses, _vocab, _df):\n",
    "    tfidf_mat = np.zeros((len(courses), len(vocab)))\n",
    "    \n",
    "    for i in range(len(courses)):\n",
    "        for j in range(len(vocab)):\n",
    "            if vocab[j] in courses[i]:\n",
    "                tfidf_mat[i][j] = courses[i].count(vocab[j]) * np.log(len(courses) / df[j])\n",
    "    return tfidf_mat\n",
    "tfidf_matrix = lec_word_tfidf_matrix(courses, vocab, df)"
   ]
  },
  {
   "cell_type": "code",
   "execution_count": 139,
   "metadata": {},
   "outputs": [
    {
     "data": {
      "text/plain": [
       "78877.29015665206"
      ]
     },
     "execution_count": 139,
     "metadata": {},
     "output_type": "execute_result"
    }
   ],
   "source": [
    "np.sum(tfidf_matrix)"
   ]
  },
  {
   "cell_type": "markdown",
   "metadata": {},
   "source": [
    "### Q2.5\n",
    "Q2.4.3で作成した講義-単語行列を元に、入力の講義に対してcos類似度に基づいて他のすべての講義との類似度を計算し、類似する講義名をキー、その類似度を値とした辞書を返す以下の`find_similar_course`関数を完成させよ。"
   ]
  },
  {
   "cell_type": "code",
   "execution_count": 146,
   "metadata": {},
   "outputs": [],
   "source": [
    "def find_similar_course(_target, _matrix, _courses):\n",
    "    sim_dict = []\n",
    "    \n",
    "    for i in range(len(courses)):\n",
    "        sim = cos_similar(_matrix[_target], _matrix[i])\n",
    "        if (sim != 0) and (_target !=0)and(sim!=1):\n",
    "            sim_ls = []\n",
    "            sim_ls.append(i)\n",
    "            sim_ls.append(sim)\n",
    "            sim_dict.append(sim_ls)\n",
    "    sim_d = {k: v for (k, v) in sim_dict}\n",
    "        \n",
    "    return sim_d"
   ]
  },
  {
   "cell_type": "code",
   "execution_count": 147,
   "metadata": {},
   "outputs": [
    {
     "data": {
      "text/html": [
       "<div>\n",
       "<style scoped>\n",
       "    .dataframe tbody tr th:only-of-type {\n",
       "        vertical-align: middle;\n",
       "    }\n",
       "\n",
       "    .dataframe tbody tr th {\n",
       "        vertical-align: top;\n",
       "    }\n",
       "\n",
       "    .dataframe thead th {\n",
       "        text-align: right;\n",
       "    }\n",
       "</style>\n",
       "<table border=\"1\" class=\"dataframe\">\n",
       "  <thead>\n",
       "    <tr style=\"text-align: right;\">\n",
       "      <th></th>\n",
       "      <th>title</th>\n",
       "      <th>similarity</th>\n",
       "    </tr>\n",
       "  </thead>\n",
       "  <tbody>\n",
       "    <tr>\n",
       "      <th>119</th>\n",
       "      <td>2910</td>\n",
       "      <td>0.951426</td>\n",
       "    </tr>\n",
       "    <tr>\n",
       "      <th>86</th>\n",
       "      <td>2068</td>\n",
       "      <td>0.591201</td>\n",
       "    </tr>\n",
       "    <tr>\n",
       "      <th>85</th>\n",
       "      <td>2045</td>\n",
       "      <td>0.551596</td>\n",
       "    </tr>\n",
       "    <tr>\n",
       "      <th>105</th>\n",
       "      <td>2618</td>\n",
       "      <td>0.549322</td>\n",
       "    </tr>\n",
       "    <tr>\n",
       "      <th>166</th>\n",
       "      <td>3832</td>\n",
       "      <td>0.518601</td>\n",
       "    </tr>\n",
       "    <tr>\n",
       "      <th>71</th>\n",
       "      <td>1859</td>\n",
       "      <td>0.459255</td>\n",
       "    </tr>\n",
       "    <tr>\n",
       "      <th>57</th>\n",
       "      <td>1564</td>\n",
       "      <td>0.394401</td>\n",
       "    </tr>\n",
       "    <tr>\n",
       "      <th>18</th>\n",
       "      <td>222</td>\n",
       "      <td>0.392754</td>\n",
       "    </tr>\n",
       "    <tr>\n",
       "      <th>66</th>\n",
       "      <td>1745</td>\n",
       "      <td>0.385049</td>\n",
       "    </tr>\n",
       "    <tr>\n",
       "      <th>61</th>\n",
       "      <td>1680</td>\n",
       "      <td>0.385049</td>\n",
       "    </tr>\n",
       "  </tbody>\n",
       "</table>\n",
       "</div>"
      ],
      "text/plain": [
       "     title  similarity\n",
       "119   2910    0.951426\n",
       "86    2068    0.591201\n",
       "85    2045    0.551596\n",
       "105   2618    0.549322\n",
       "166   3832    0.518601\n",
       "71    1859    0.459255\n",
       "57    1564    0.394401\n",
       "18     222    0.392754\n",
       "66    1745    0.385049\n",
       "61    1680    0.385049"
      ]
     },
     "execution_count": 147,
     "metadata": {},
     "output_type": "execute_result"
    }
   ],
   "source": [
    "title=\"医学データの統計解析実習\" # 入力の講義名\n",
    "\n",
    "results=find_similar_course(courses.index(title), tfidf_matrix, courses) # 類似講義の辞書を受け取る\n",
    "\n",
    "df=pd.DataFrame(list(results.items()), columns=['title', \"similarity\"]) # 類似度が上位の講義を表示\n",
    "df.sort_values(by='similarity', ascending=False).head(10)"
   ]
  },
  {
   "cell_type": "code",
   "execution_count": null,
   "metadata": {},
   "outputs": [],
   "source": []
  }
 ],
 "metadata": {
  "kernelspec": {
   "display_name": "Python 3",
   "language": "python",
   "name": "python3"
  },
  "language_info": {
   "codemirror_mode": {
    "name": "ipython",
    "version": 3
   },
   "file_extension": ".py",
   "mimetype": "text/x-python",
   "name": "python",
   "nbconvert_exporter": "python",
   "pygments_lexer": "ipython3",
   "version": "3.6.5"
  }
 },
 "nbformat": 4,
 "nbformat_minor": 2
}
