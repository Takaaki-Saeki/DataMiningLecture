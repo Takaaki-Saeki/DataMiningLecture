{
 "cells": [
  {
   "cell_type": "markdown",
   "metadata": {},
   "source": [
    "# 課題3 データの前処理と可視化"
   ]
  },
  {
   "cell_type": "markdown",
   "metadata": {},
   "source": [
    "* numpyを用いたデータの前処理  \n",
    "欠損値の処理、外れ値の処理、標準化などの操作の基礎\n",
    "  \n",
    "* matplotlibを用いたデータの可視化  \n",
    "ヒストグラムなどによる可視化、相関の表示など"
   ]
  },
  {
   "cell_type": "markdown",
   "metadata": {},
   "source": [
    "### 必要なモジュールの読み込み"
   ]
  },
  {
   "cell_type": "code",
   "execution_count": 2,
   "metadata": {},
   "outputs": [],
   "source": [
    "import pandas as pd\n",
    "import numpy as np\n",
    "import matplotlib.pyplot as plt\n",
    "%matplotlib inline"
   ]
  },
  {
   "cell_type": "markdown",
   "metadata": {},
   "source": [
    "## Q1 欠損値の処理"
   ]
  },
  {
   "cell_type": "markdown",
   "metadata": {},
   "source": [
    "欠損値を含む得点データのcsvファイル 'score_missing.csv' を読み込み作成したデータフレームを受け取り、各列の欠損値をその列の欠損がない要素の値の中央値で補完したデータフレームを返す`fill_median()`関数を完成させる。"
   ]
  },
  {
   "cell_type": "code",
   "execution_count": 18,
   "metadata": {},
   "outputs": [
    {
     "data": {
      "text/html": [
       "<div>\n",
       "<style scoped>\n",
       "    .dataframe tbody tr th:only-of-type {\n",
       "        vertical-align: middle;\n",
       "    }\n",
       "\n",
       "    .dataframe tbody tr th {\n",
       "        vertical-align: top;\n",
       "    }\n",
       "\n",
       "    .dataframe thead th {\n",
       "        text-align: right;\n",
       "    }\n",
       "</style>\n",
       "<table border=\"1\" class=\"dataframe\">\n",
       "  <thead>\n",
       "    <tr style=\"text-align: right;\">\n",
       "      <th></th>\n",
       "      <th>kokugo</th>\n",
       "      <th>shakai</th>\n",
       "      <th>sugaku</th>\n",
       "      <th>rika</th>\n",
       "    </tr>\n",
       "  </thead>\n",
       "  <tbody>\n",
       "    <tr>\n",
       "      <th>0</th>\n",
       "      <td>30.0</td>\n",
       "      <td>43.0</td>\n",
       "      <td>51</td>\n",
       "      <td>58.0</td>\n",
       "    </tr>\n",
       "    <tr>\n",
       "      <th>1</th>\n",
       "      <td>39.0</td>\n",
       "      <td>21.0</td>\n",
       "      <td>50</td>\n",
       "      <td>56.0</td>\n",
       "    </tr>\n",
       "    <tr>\n",
       "      <th>2</th>\n",
       "      <td>42.0</td>\n",
       "      <td>43.0</td>\n",
       "      <td>23</td>\n",
       "      <td>57.0</td>\n",
       "    </tr>\n",
       "    <tr>\n",
       "      <th>3</th>\n",
       "      <td>29.0</td>\n",
       "      <td>87.0</td>\n",
       "      <td>77</td>\n",
       "      <td>100.0</td>\n",
       "    </tr>\n",
       "    <tr>\n",
       "      <th>4</th>\n",
       "      <td>70.0</td>\n",
       "      <td>71.0</td>\n",
       "      <td>78</td>\n",
       "      <td>67.0</td>\n",
       "    </tr>\n",
       "    <tr>\n",
       "      <th>5</th>\n",
       "      <td>66.0</td>\n",
       "      <td>43.0</td>\n",
       "      <td>53</td>\n",
       "      <td>58.0</td>\n",
       "    </tr>\n",
       "    <tr>\n",
       "      <th>6</th>\n",
       "      <td>29.0</td>\n",
       "      <td>26.0</td>\n",
       "      <td>44</td>\n",
       "      <td>52.0</td>\n",
       "    </tr>\n",
       "    <tr>\n",
       "      <th>7</th>\n",
       "      <td>42.0</td>\n",
       "      <td>54.0</td>\n",
       "      <td>37</td>\n",
       "      <td>59.0</td>\n",
       "    </tr>\n",
       "    <tr>\n",
       "      <th>8</th>\n",
       "      <td>45.0</td>\n",
       "      <td>43.0</td>\n",
       "      <td>7</td>\n",
       "      <td>44.0</td>\n",
       "    </tr>\n",
       "    <tr>\n",
       "      <th>9</th>\n",
       "      <td>68.0</td>\n",
       "      <td>41.0</td>\n",
       "      <td>29</td>\n",
       "      <td>81.0</td>\n",
       "    </tr>\n",
       "  </tbody>\n",
       "</table>\n",
       "</div>"
      ],
      "text/plain": [
       "   kokugo  shakai  sugaku   rika\n",
       "0    30.0    43.0      51   58.0\n",
       "1    39.0    21.0      50   56.0\n",
       "2    42.0    43.0      23   57.0\n",
       "3    29.0    87.0      77  100.0\n",
       "4    70.0    71.0      78   67.0\n",
       "5    66.0    43.0      53   58.0\n",
       "6    29.0    26.0      44   52.0\n",
       "7    42.0    54.0      37   59.0\n",
       "8    45.0    43.0       7   44.0\n",
       "9    68.0    41.0      29   81.0"
      ]
     },
     "execution_count": 18,
     "metadata": {},
     "output_type": "execute_result"
    }
   ],
   "source": [
    "score = pd.read_csv('ex3/score_missing.csv') # csvファイル読み込み\n",
    "\n",
    "def fill_median(df):\n",
    "    return df.fillna(df.median())\n",
    "fill_median(score)"
   ]
  },
  {
   "cell_type": "markdown",
   "metadata": {},
   "source": [
    "## Q2 外れ値の処理"
   ]
  },
  {
   "cell_type": "markdown",
   "metadata": {},
   "source": [
    "### Q2-1 numpyでの外れ値の処理"
   ]
  },
  {
   "cell_type": "markdown",
   "metadata": {},
   "source": [
    "以下では、csvファイルをnumpy配列の形として読み込む。"
   ]
  },
  {
   "cell_type": "code",
   "execution_count": 20,
   "metadata": {},
   "outputs": [],
   "source": [
    "score = np.loadtxt(\"ex3/exam_score.csv\", delimiter=\",\", skiprows=1)"
   ]
  },
  {
   "cell_type": "markdown",
   "metadata": {},
   "source": [
    "以下の規則のもと外れ値を定義し、全ての外れ値を要素としてもつリストを返す。\n",
    "- （第1四分位-1.5IQR）を値の下限としてそれより小さい値は外れ値とする\n",
    "- （第3四分位+1.5IQR）を値の上限としてそれより大きい値は外れ値とする"
   ]
  },
  {
   "cell_type": "code",
   "execution_count": 21,
   "metadata": {},
   "outputs": [],
   "source": [
    "def find_outliers(input_array):\n",
    "    q1, q3 = np.percentile(input_array, [25, 75])\n",
    "    iqr = q3 - q1\n",
    "    lower = q1 - 1.5*iqr\n",
    "    upper = q3 + 1.5*iqr\n",
    "    return input_array[(input_array>upper) | (input_array < lower)]"
   ]
  },
  {
   "cell_type": "code",
   "execution_count": 22,
   "metadata": {},
   "outputs": [
    {
     "data": {
      "text/plain": [
       "array([-100,  200, 1000])"
      ]
     },
     "execution_count": 22,
     "metadata": {},
     "output_type": "execute_result"
    }
   ],
   "source": [
    "find_outliers(np.array([30,39,-100,29,95,70,67,200,29,1000,56,45,68]))"
   ]
  },
  {
   "cell_type": "markdown",
   "metadata": {},
   "source": [
    "### Q2-2 pandasでの外れ値の処理"
   ]
  },
  {
   "cell_type": "markdown",
   "metadata": {},
   "source": [
    "先ほどと同じ規則で外れ値を定義し、外れ値を含む行を除いたデータフレームを返す。"
   ]
  },
  {
   "cell_type": "code",
   "execution_count": 26,
   "metadata": {},
   "outputs": [],
   "source": [
    "score = pd.read_csv('ex3/score_outlier.csv') # csvファイル読み込み\n",
    "def drop_outliers(df):\n",
    "    columns = df.columns # 列名のリスト\n",
    "    for c in columns: # 各列ごとの処理      \n",
    "        q1 = df[c].describe()['25%']\n",
    "        q3 = df[c].describe()['75%']\n",
    "        iqr =  q3 - q1\n",
    "        lower = q1 - 1.5*iqr\n",
    "        upper = q3 + 1.5*iqr\n",
    "        df = df.drop(df.loc[(df[c]>upper)|(df[c]<lower), :].index)\n",
    "    return df "
   ]
  },
  {
   "cell_type": "code",
   "execution_count": 28,
   "metadata": {},
   "outputs": [
    {
     "data": {
      "text/plain": [
       "155"
      ]
     },
     "execution_count": 28,
     "metadata": {},
     "output_type": "execute_result"
    }
   ],
   "source": [
    "# 外れ値を除いたデータフレームの行数\n",
    "len(drop_outliers(score).index)"
   ]
  },
  {
   "cell_type": "markdown",
   "metadata": {},
   "source": [
    "### Q2-3 箱ひげ図での可視化"
   ]
  },
  {
   "cell_type": "markdown",
   "metadata": {},
   "source": [
    "各教科の点数を箱ひげ図で可視化する。"
   ]
  },
  {
   "cell_type": "code",
   "execution_count": 31,
   "metadata": {},
   "outputs": [
    {
     "data": {
      "image/png": "[encoded data removed]",
      "text/plain": [
       "<Figure size 432x288 with 1 Axes>"
      ]
     },
     "metadata": {},
     "output_type": "display_data"
    }
   ],
   "source": [
    "# csvファイルからNumPy配列の作成\n",
    "score = np.loadtxt(\"ex3/score_outlier.csv\",delimiter=\",\", skiprows=1)\n",
    "plt.boxplot([score.T[0], score.T[1],score.T[2], score.T[3]], showmeans=True);"
   ]
  },
  {
   "cell_type": "markdown",
   "metadata": {},
   "source": [
    "## Q3 標準化"
   ]
  },
  {
   "cell_type": "markdown",
   "metadata": {},
   "source": [
    "### Q3-1 変数変換"
   ]
  },
  {
   "cell_type": "markdown",
   "metadata": {},
   "source": [
    "NumPyの配列を受け取り、各教科の点数をその教科の平均値と分散を用いて標準化した配列を返すnormalize_score()関数を完成させる。"
   ]
  },
  {
   "cell_type": "code",
   "execution_count": 35,
   "metadata": {},
   "outputs": [
    {
     "data": {
      "text/plain": [
       "array([[-0.7421071 , -0.16984799,  0.18231146,  0.71055064],\n",
       "       [-0.34592771, -1.13828648,  0.0942716 ,  0.40241112],\n",
       "       [-0.78612703, -0.7421071 , -1.05024661,  0.44643105],\n",
       "       [ 2.11918844,  1.76702899,  1.32682968,  2.3392881 ],\n",
       "       [ 1.01869016,  1.06271009,  1.37084961,  0.88663036],\n",
       "       [ 0.88663036,  0.27035133,  0.40241112,  0.62251078],\n",
       "       [-0.78612703, -0.91818682, -0.12582806,  0.22633139],\n",
       "       [ 0.40241112,  0.31437126, -0.43396758,  0.53447091],\n",
       "       [-0.08180813, -1.13828648, -1.75456552, -0.12582806],\n",
       "       [ 0.93065029, -0.25788785, -0.78612703,  1.5029094 ],\n",
       "       [ 0.13829153, -0.16984799,  1.45888947,  1.15074995],\n",
       "       [ 1.01869016,  0.62251078,  0.62251078,  1.06271009],\n",
       "       [-0.03778819, -0.43396758, -0.47798751,  0.40241112],\n",
       "       [-1.05024661, -1.00622668, -1.18230641, -0.47798751],\n",
       "       [ 1.32682968,  0.31437126,  0.49045098,  1.6349692 ],\n",
       "       [-1.40240606, -1.71054558, -1.09426655, -0.78612703],\n",
       "       [-0.43396758, -1.05024661, -1.05024661, -0.65406723],\n",
       "       [ 0.35839119, -0.21386792,  1.67898913,  1.72300906],\n",
       "       [-2.06270503, -1.84260538, -2.06270503, -1.00622668],\n",
       "       [-0.52200744,  0.05025167, -1.00622668, -0.21386792],\n",
       "       [ 0.57849084,  1.45888947,  0.75457057,  1.10673002],\n",
       "       [ 1.01869016,  0.22633139,  1.23878981,  0.57849084],\n",
       "       [ 1.54692933,  1.6349692 ,  1.72300906,  1.81104892],\n",
       "       [-0.12582806, -1.09426655, -1.27034627, -1.49044593],\n",
       "       [ 0.31437126, -1.446426  , -0.6100473 , -0.16984799],\n",
       "       [ 1.45888947,  0.71055064,  0.53447091,  1.15074995],\n",
       "       [-0.03778819,  0.00623174,  1.10673002,  0.40241112],\n",
       "       [ 0.05025167,  0.71055064,  1.10673002,  1.59094926],\n",
       "       [ 0.18231146, -0.25788785,  0.71055064,  0.57849084],\n",
       "       [-0.43396758, -1.27034627, -0.38994764,  0.18231146],\n",
       "       [-0.69808716, -0.78612703, -0.83014696, -0.47798751],\n",
       "       [-0.52200744,  0.22633139, -0.30190778,  0.7985905 ],\n",
       "       [ 0.13829153, -0.25788785,  0.13829153,  0.75457057],\n",
       "       [-0.6100473 , -0.83014696,  0.7985905 , -0.16984799],\n",
       "       [-0.87416689, -1.18230641, -1.3143662 , -0.78612703],\n",
       "       [-0.47798751, -0.87416689,  0.66653071,  0.49045098],\n",
       "       [ 1.32682968,  1.01869016,  1.94310872,  1.10673002],\n",
       "       [ 0.62251078,  0.0942716 ,  1.06271009,  1.06271009],\n",
       "       [ 1.6349692 ,  1.89908878,  1.76702899,  2.3392881 ],\n",
       "       [ 1.37084961, -0.16984799,  0.53447091,  0.35839119],\n",
       "       [-1.75456552, -1.3143662 , -1.27034627, -0.87416689],\n",
       "       [ 0.44643105, -0.65406723, -0.47798751,  0.35839119],\n",
       "       [ 0.57849084,  0.57849084,  1.67898913,  0.84261043],\n",
       "       [-1.3143662 , -1.22632634, -0.96220675, -0.83014696],\n",
       "       [ 1.54692933,  1.72300906,  1.23878981,  1.6349692 ],\n",
       "       [-0.43396758, -0.47798751, -0.08180813, -0.25788785],\n",
       "       [-0.30190778, -0.87416689, -0.52200744, -0.08180813],\n",
       "       [ 1.10673002,  1.15074995,  2.07516851,  2.16320837],\n",
       "       [ 1.19476988,  0.71055064,  1.41486954,  0.97467023],\n",
       "       [ 1.76702899,  1.67898913,  1.6349692 ,  2.03114858],\n",
       "       [ 0.84261043, -0.56602737,  0.44643105,  0.13829153],\n",
       "       [ 1.89908878,  0.93065029,  0.75457057,  1.37084961],\n",
       "       [-0.16984799, -1.22632634, -0.78612703, -0.52200744],\n",
       "       [-1.00622668, -1.40240606, -2.0186851 , -1.3143662 ],\n",
       "       [-0.25788785, -0.56602737, -0.83014696, -0.16984799],\n",
       "       [-0.21386792, -1.35838613, -0.78612703, -0.16984799],\n",
       "       [-0.6100473 , -1.05024661,  0.05025167,  0.27035133],\n",
       "       [-0.78612703, -1.40240606, -1.18230641, -1.13828648],\n",
       "       [ 1.59094926,  1.59094926,  0.49045098,  1.06271009],\n",
       "       [ 1.15074995,  1.5029094 ,  2.07516851,  1.67898913],\n",
       "       [ 0.84261043, -1.05024661,  1.37084961, -0.25788785],\n",
       "       [ 1.06271009, -0.38994764,  1.45888947,  0.62251078],\n",
       "       [ 0.66653071,  0.44643105,  1.94310872,  1.59094926],\n",
       "       [ 0.00623174,  0.18231146,  0.97467023,  1.45888947],\n",
       "       [ 0.27035133, -0.6100473 ,  0.13829153, -0.38994764],\n",
       "       [ 0.62251078, -0.6100473 ,  0.13829153,  0.0942716 ],\n",
       "       [-1.13828648, -1.18230641, -0.34592771, -1.13828648],\n",
       "       [ 1.19476988,  0.84261043,  0.7985905 ,  1.37084961],\n",
       "       [ 1.10673002,  0.93065029, -0.21386792,  0.84261043],\n",
       "       [ 0.13829153, -0.12582806,  0.00623174,  0.40241112],\n",
       "       [-1.84260538, -0.87416689, -0.78612703, -1.00622668],\n",
       "       [-0.65406723, -0.83014696, -1.446426  , -0.16984799],\n",
       "       [-1.05024661, -0.96220675, -0.91818682, -0.56602737],\n",
       "       [-0.56602737, -1.18230641, -1.05024661, -0.7421071 ],\n",
       "       [ 1.01869016,  1.76702899,  1.6349692 ,  1.81104892],\n",
       "       [-1.66652565, -0.96220675, -1.05024661, -0.6100473 ],\n",
       "       [ 0.62251078, -0.43396758, -0.34592771,  0.35839119],\n",
       "       [-0.56602737, -0.30190778, -0.47798751, -0.6100473 ],\n",
       "       [-0.38994764, -0.69808716, -0.6100473 , -0.69808716],\n",
       "       [ 1.10673002, -0.25788785, -0.47798751, -0.12582806],\n",
       "       [-0.65406723, -0.83014696, -0.65406723, -0.25788785],\n",
       "       [ 0.22633139, -0.78612703, -0.65406723, -0.47798751],\n",
       "       [ 2.16320837,  1.28280975,  1.89908878,  1.32682968],\n",
       "       [ 0.49045098, -0.69808716, -0.03778819, -0.03778819],\n",
       "       [-0.52200744, -1.05024661, -1.3143662 , -0.38994764],\n",
       "       [-0.30190778, -0.38994764, -1.75456552, -1.13828648],\n",
       "       [ 0.05025167, -1.05024661, -0.25788785, -0.30190778],\n",
       "       [-0.03778819,  0.27035133, -0.56602737, -0.7421071 ],\n",
       "       [-0.65406723, -1.13828648, -1.00622668, -0.83014696],\n",
       "       [ 0.13829153, -0.83014696, -0.78612703, -0.69808716],\n",
       "       [ 1.28280975,  0.71055064,  1.19476988,  1.10673002],\n",
       "       [ 0.75457057, -0.30190778, -0.7421071 ,  0.0942716 ],\n",
       "       [ 0.66653071, -0.16984799, -1.446426  ,  0.05025167],\n",
       "       [ 1.28280975, -0.21386792,  0.49045098,  0.18231146],\n",
       "       [ 1.5029094 ,  0.13829153,  0.62251078,  0.71055064],\n",
       "       [ 0.97467023,  0.0942716 , -0.7421071 , -0.56602737],\n",
       "       [ 1.85506885,  1.59094926,  1.15074995,  1.5029094 ],\n",
       "       [-0.87416689, -0.78612703, -0.56602737, -0.30190778],\n",
       "       [-0.34592771, -1.00622668, -0.91818682, -1.00622668],\n",
       "       [ 0.66653071, -0.34592771, -0.21386792, -0.30190778],\n",
       "       [ 1.15074995,  1.19476988,  1.19476988,  0.62251078],\n",
       "       [ 0.0942716 , -1.27034627, -0.87416689, -1.18230641],\n",
       "       [-0.52200744, -1.27034627, -0.83014696, -0.96220675],\n",
       "       [-0.47798751, -1.88662531, -1.40240606, -0.16984799],\n",
       "       [-1.35838613, -1.35838613, -0.96220675, -1.09426655],\n",
       "       [ 0.57849084,  0.05025167,  0.88663036, -0.78612703],\n",
       "       [ 1.19476988,  0.57849084,  0.44643105,  1.37084961],\n",
       "       [-1.09426655, -1.66652565, -1.79858545, -0.91818682],\n",
       "       [ 0.00623174, -1.13828648, -0.91818682, -0.96220675],\n",
       "       [-0.16984799, -0.65406723,  1.19476988,  0.35839119],\n",
       "       [ 1.6349692 ,  0.18231146,  1.28280975,  1.6349692 ],\n",
       "       [ 0.7985905 , -0.16984799, -0.38994764,  1.01869016],\n",
       "       [ 0.0942716 , -0.91818682,  0.66653071,  0.13829153],\n",
       "       [-0.69808716, -1.446426  , -1.71054558, -1.35838613],\n",
       "       [ 1.59094926,  0.31437126, -0.12582806, -0.08180813],\n",
       "       [ 1.76702899,  1.72300906,  1.32682968,  1.37084961],\n",
       "       [ 0.93065029,  0.53447091,  0.57849084,  0.71055064],\n",
       "       [ 0.93065029,  0.27035133, -0.25788785,  0.44643105],\n",
       "       [-0.83014696, -1.88662531, -0.43396758, -0.78612703],\n",
       "       [-0.21386792, -0.78612703, -0.6100473 ,  0.05025167],\n",
       "       [-0.21386792, -0.69808716,  0.00623174, -0.12582806],\n",
       "       [ 1.01869016,  0.44643105,  0.57849084,  0.62251078],\n",
       "       [ 0.49045098,  0.66653071, -0.30190778,  0.84261043],\n",
       "       [ 0.44643105, -0.30190778, -0.16984799, -0.83014696],\n",
       "       [-1.71054558, -1.53446586, -2.06270503, -1.18230641],\n",
       "       [-0.12582806, -0.65406723, -0.69808716, -0.83014696],\n",
       "       [ 0.7985905 , -0.16984799, -0.47798751,  0.0942716 ],\n",
       "       [ 1.5029094 ,  0.27035133,  1.37084961,  1.5029094 ],\n",
       "       [ 0.44643105,  0.27035133,  1.23878981,  0.49045098],\n",
       "       [ 0.75457057, -0.47798751, -1.18230641, -0.69808716],\n",
       "       [ 1.72300906,  0.66653071,  1.37084961,  0.31437126],\n",
       "       [-0.56602737, -0.87416689,  0.05025167,  0.22633139],\n",
       "       [ 1.6349692 ,  0.44643105, -0.08180813,  0.75457057],\n",
       "       [-1.88662531, -1.66652565, -1.84260538, -1.57848579],\n",
       "       [-1.05024661, -1.66652565, -1.84260538, -0.91818682],\n",
       "       [ 0.84261043, -0.16984799,  0.31437126,  1.10673002],\n",
       "       [ 0.27035133, -1.05024661, -0.83014696, -0.7421071 ],\n",
       "       [ 1.01869016, -0.25788785, -0.12582806, -0.56602737],\n",
       "       [ 1.37084961,  0.27035133, -0.08180813,  0.31437126],\n",
       "       [-0.34592771, -1.22632634, -1.84260538, -0.65406723],\n",
       "       [ 1.19476988,  0.66653071, -0.12582806,  0.49045098],\n",
       "       [-0.6100473 , -0.6100473 , -0.65406723, -0.21386792],\n",
       "       [-0.16984799, -1.00622668, -0.78612703,  0.00623174],\n",
       "       [ 0.31437126, -1.13828648, -0.16984799, -0.83014696],\n",
       "       [-0.91818682, -1.40240606, -1.49044593, -1.22632634],\n",
       "       [ 0.49045098, -1.3143662 , -0.56602737, -1.22632634],\n",
       "       [-0.78612703, -1.40240606, -0.43396758, -1.22632634],\n",
       "       [ 1.15074995,  0.57849084,  0.53447091,  0.31437126],\n",
       "       [ 0.53447091, -0.96220675, -0.08180813,  0.05025167],\n",
       "       [ 0.49045098, -1.3143662 , -0.69808716, -1.05024661],\n",
       "       [ 1.01869016,  0.40241112,  1.28280975,  0.66653071],\n",
       "       [-1.22632634, -1.53446586, -1.66652565, -0.83014696],\n",
       "       [-0.78612703, -1.13828648, -0.91818682, -0.7421071 ],\n",
       "       [-0.65406723, -1.75456552, -1.446426  , -1.27034627],\n",
       "       [ 1.32682968,  0.75457057,  1.76702899,  1.06271009],\n",
       "       [ 1.94310872,  0.97467023,  2.3392881 ,  1.59094926],\n",
       "       [ 0.13829153, -0.69808716,  0.27035133, -0.12582806],\n",
       "       [ 0.71055064, -0.65406723, -0.16984799,  0.22633139],\n",
       "       [-0.21386792, -1.35838613, -0.87416689, -1.09426655],\n",
       "       [ 0.93065029, -0.83014696,  0.57849084,  0.97467023],\n",
       "       [ 1.01869016, -1.05024661, -0.16984799,  0.13829153],\n",
       "       [ 1.54692933,  1.37084961,  1.45888947,  1.81104892],\n",
       "       [-2.06270503, -1.71054558, -1.97466517, -1.66652565],\n",
       "       [-0.08180813, -0.91818682, -0.78612703, -1.00622668],\n",
       "       [ 1.15074995, -0.69808716, -0.16984799, -0.65406723],\n",
       "       [ 0.57849084,  1.67898913,  1.85506885,  1.45888947]])"
      ]
     },
     "execution_count": 35,
     "metadata": {},
     "output_type": "execute_result"
    }
   ],
   "source": [
    "# csvファイルからNumPy配列の作成\n",
    "score = np.loadtxt(\"ex3/exam_score.csv\", delimiter=\",\", skiprows=1)\n",
    "def normalize_score(a):\n",
    "    return (a - np.mean(a))/(np.std(a))\n",
    "normalize_score(score) # 関数呼び出して標準化された配列を表示"
   ]
  },
  {
   "cell_type": "code",
   "execution_count": 36,
   "metadata": {},
   "outputs": [
    {
     "data": {
      "text/plain": [
       "1.4210854715202004e-14"
      ]
     },
     "execution_count": 36,
     "metadata": {},
     "output_type": "execute_result"
    }
   ],
   "source": [
    "normalize_score(score).sum()"
   ]
  },
  {
   "cell_type": "markdown",
   "metadata": {},
   "source": [
    "### Q3-2 ヒストグラム"
   ]
  },
  {
   "cell_type": "markdown",
   "metadata": {},
   "source": [
    "数学の点数をヒストグラムとして可視化する。"
   ]
  },
  {
   "cell_type": "code",
   "execution_count": 39,
   "metadata": {},
   "outputs": [
    {
     "data": {
      "image/png": "[encoded data removed]",
      "text/plain": [
       "<Figure size 432x288 with 1 Axes>"
      ]
     },
     "metadata": {},
     "output_type": "display_data"
    }
   ],
   "source": [
    "# csvファイルからNumPy配列の作成\n",
    "score = np.loadtxt(\"ex3/exam_score.csv\", delimiter=\",\", skiprows=1)\n",
    "plt.hist(score.T[2]);"
   ]
  },
  {
   "cell_type": "markdown",
   "metadata": {},
   "source": [
    "## Q4 相関"
   ]
  },
  {
   "cell_type": "markdown",
   "metadata": {},
   "source": [
    "### Q4-1 相関係数の計算"
   ]
  },
  {
   "cell_type": "markdown",
   "metadata": {},
   "source": [
    "整数を要素とする同じ長さの2つの1次元配列を入力として受け取り、それらの配列の要素の相関係数を返すcorrelation()関数を完成させる。numpyのcorrcoef関数を使うと、分散共分散行列が返って来るため、[0,1]　要素を指定してやる必要がある。"
   ]
  },
  {
   "cell_type": "code",
   "execution_count": 40,
   "metadata": {},
   "outputs": [],
   "source": [
    "def correlation(x, y):\n",
    "    corr = np.corrcoef(x,y)[0,1]\n",
    "    if corr == 0.9999999999999999:\n",
    "        return 1\n",
    "    elif corr == -0.9999999999999999:\n",
    "        return -1\n",
    "    else:\n",
    "        return corr  "
   ]
  },
  {
   "cell_type": "code",
   "execution_count": 41,
   "metadata": {},
   "outputs": [
    {
     "data": {
      "text/plain": [
       "1"
      ]
     },
     "execution_count": 41,
     "metadata": {},
     "output_type": "execute_result"
    }
   ],
   "source": [
    "correlation(np.array([-1,1]),np.array([ -1, 1]))"
   ]
  },
  {
   "cell_type": "code",
   "execution_count": 43,
   "metadata": {},
   "outputs": [
    {
     "data": {
      "text/plain": [
       "-1"
      ]
     },
     "execution_count": 43,
     "metadata": {},
     "output_type": "execute_result"
    }
   ],
   "source": [
    "correlation(np.array([-1,1]),np.array([ 1, -1]))"
   ]
  },
  {
   "cell_type": "code",
   "execution_count": 49,
   "metadata": {},
   "outputs": [
    {
     "data": {
      "text/plain": [
       "1"
      ]
     },
     "execution_count": 49,
     "metadata": {},
     "output_type": "execute_result"
    }
   ],
   "source": [
    "correlation(np.array([-1,1]),np.array([ 2,3]))"
   ]
  },
  {
   "cell_type": "markdown",
   "metadata": {},
   "source": [
    "### Q4.2  散布図の可視化"
   ]
  },
  {
   "cell_type": "markdown",
   "metadata": {},
   "source": [
    "以下のような形式の\"exam_score.csv\"ファイルを読み込み、数学と理科の点数の関係を散布図として可視化する。"
   ]
  },
  {
   "cell_type": "code",
   "execution_count": 52,
   "metadata": {},
   "outputs": [
    {
     "data": {
      "image/png": "[encoded data removed]",
      "text/plain": [
       "<Figure size 432x288 with 1 Axes>"
      ]
     },
     "metadata": {},
     "output_type": "display_data"
    }
   ],
   "source": [
    "# csvファイルからNumPy配列の作成\n",
    "score = np.loadtxt(\"ex3/exam_score.csv\", delimiter=\",\", skiprows=1)\n",
    "plt.plot(score.T[2], score.T[3] , 'o');"
   ]
  },
  {
   "cell_type": "markdown",
   "metadata": {},
   "source": [
    "### Q4-3 相関行列の可視化"
   ]
  },
  {
   "cell_type": "markdown",
   "metadata": {},
   "source": [
    "pandasのcorrメソッドを使うとデータフレームの列間の相関係数を簡単に求められる。"
   ]
  },
  {
   "cell_type": "code",
   "execution_count": 56,
   "metadata": {},
   "outputs": [
    {
     "data": {
      "text/html": [
       "<div>\n",
       "<style scoped>\n",
       "    .dataframe tbody tr th:only-of-type {\n",
       "        vertical-align: middle;\n",
       "    }\n",
       "\n",
       "    .dataframe tbody tr th {\n",
       "        vertical-align: top;\n",
       "    }\n",
       "\n",
       "    .dataframe thead th {\n",
       "        text-align: right;\n",
       "    }\n",
       "</style>\n",
       "<table border=\"1\" class=\"dataframe\">\n",
       "  <thead>\n",
       "    <tr style=\"text-align: right;\">\n",
       "      <th></th>\n",
       "      <th>kokugo</th>\n",
       "      <th>shakai</th>\n",
       "      <th>sugaku</th>\n",
       "      <th>rika</th>\n",
       "    </tr>\n",
       "  </thead>\n",
       "  <tbody>\n",
       "    <tr>\n",
       "      <th>kokugo</th>\n",
       "      <td>1.000000</td>\n",
       "      <td>0.782622</td>\n",
       "      <td>0.718526</td>\n",
       "      <td>0.717996</td>\n",
       "    </tr>\n",
       "    <tr>\n",
       "      <th>shakai</th>\n",
       "      <td>0.782622</td>\n",
       "      <td>1.000000</td>\n",
       "      <td>0.778242</td>\n",
       "      <td>0.834075</td>\n",
       "    </tr>\n",
       "    <tr>\n",
       "      <th>sugaku</th>\n",
       "      <td>0.718526</td>\n",
       "      <td>0.778242</td>\n",
       "      <td>1.000000</td>\n",
       "      <td>0.817947</td>\n",
       "    </tr>\n",
       "    <tr>\n",
       "      <th>rika</th>\n",
       "      <td>0.717996</td>\n",
       "      <td>0.834075</td>\n",
       "      <td>0.817947</td>\n",
       "      <td>1.000000</td>\n",
       "    </tr>\n",
       "  </tbody>\n",
       "</table>\n",
       "</div>"
      ],
      "text/plain": [
       "          kokugo    shakai    sugaku      rika\n",
       "kokugo  1.000000  0.782622  0.718526  0.717996\n",
       "shakai  0.782622  1.000000  0.778242  0.834075\n",
       "sugaku  0.718526  0.778242  1.000000  0.817947\n",
       "rika    0.717996  0.834075  0.817947  1.000000"
      ]
     },
     "execution_count": 56,
     "metadata": {},
     "output_type": "execute_result"
    }
   ],
   "source": [
    "score = pd.read_csv(\"ex3/exam_score.csv\", sep=\",\")\n",
    "score.corr(method='pearson')"
   ]
  },
  {
   "cell_type": "markdown",
   "metadata": {},
   "source": [
    "ヒートマップとして可視化する。"
   ]
  },
  {
   "cell_type": "code",
   "execution_count": 57,
   "metadata": {},
   "outputs": [
    {
     "data": {
      "image/png": "[encoded data removed]",
      "text/plain": [
       "<Figure size 432x288 with 2 Axes>"
      ]
     },
     "metadata": {},
     "output_type": "display_data"
    }
   ],
   "source": [
    "plt.colorbar(plt.imshow(score.corr(method='pearson')));"
   ]
  },
  {
   "cell_type": "code",
   "execution_count": null,
   "metadata": {},
   "outputs": [],
   "source": []
  }
 ],
 "metadata": {
  "kernelspec": {
   "display_name": "Python 3",
   "language": "python",
   "name": "python3"
  },
  "language_info": {
   "codemirror_mode": {
    "name": "ipython",
    "version": 3
   },
   "file_extension": ".py",
   "mimetype": "text/x-python",
   "name": "python",
   "nbconvert_exporter": "python",
   "pygments_lexer": "ipython3",
   "version": "3.6.5"
  }
 },
 "nbformat": 4,
 "nbformat_minor": 2
}
