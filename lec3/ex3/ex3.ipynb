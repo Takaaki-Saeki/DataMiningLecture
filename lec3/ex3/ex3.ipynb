{
 "cells": [
  {
   "cell_type": "markdown",
   "metadata": {},
   "source": [
    "# 課題3 データの前処理と可視化"
   ]
  },
  {
   "cell_type": "code",
   "execution_count": 1,
   "metadata": {},
   "outputs": [],
   "source": [
    "# 必要なモジュールの読み込み\n",
    "import pandas as pd\n",
    "import numpy as np\n",
    "import matplotlib.pyplot as plt\n",
    "%matplotlib inline"
   ]
  },
  {
   "cell_type": "markdown",
   "metadata": {},
   "source": [
    "## Q1 欠損値の処理\n",
    "### 欠損値の検出\n",
    "pandasのシリーズやデータフレームではデータに欠損値（例えば数値データ内の空値）が含まれる場合、欠損値が`NaN`となります。以下では欠損値（空値）を含む得点データのcsvファイル, 'score_missing.csv', を読み込み、データフレーム`score`を作成します。"
   ]
  },
  {
   "cell_type": "code",
   "execution_count": 2,
   "metadata": {},
   "outputs": [
    {
     "data": {
      "text/html": [
       "<div>\n",
       "<style scoped>\n",
       "    .dataframe tbody tr th:only-of-type {\n",
       "        vertical-align: middle;\n",
       "    }\n",
       "\n",
       "    .dataframe tbody tr th {\n",
       "        vertical-align: top;\n",
       "    }\n",
       "\n",
       "    .dataframe thead th {\n",
       "        text-align: right;\n",
       "    }\n",
       "</style>\n",
       "<table border=\"1\" class=\"dataframe\">\n",
       "  <thead>\n",
       "    <tr style=\"text-align: right;\">\n",
       "      <th></th>\n",
       "      <th>kokugo</th>\n",
       "      <th>shakai</th>\n",
       "      <th>sugaku</th>\n",
       "      <th>rika</th>\n",
       "    </tr>\n",
       "  </thead>\n",
       "  <tbody>\n",
       "    <tr>\n",
       "      <th>0</th>\n",
       "      <td>30.0</td>\n",
       "      <td>43.0</td>\n",
       "      <td>51</td>\n",
       "      <td>NaN</td>\n",
       "    </tr>\n",
       "    <tr>\n",
       "      <th>1</th>\n",
       "      <td>39.0</td>\n",
       "      <td>21.0</td>\n",
       "      <td>50</td>\n",
       "      <td>56.0</td>\n",
       "    </tr>\n",
       "    <tr>\n",
       "      <th>2</th>\n",
       "      <td>NaN</td>\n",
       "      <td>NaN</td>\n",
       "      <td>23</td>\n",
       "      <td>57.0</td>\n",
       "    </tr>\n",
       "    <tr>\n",
       "      <th>3</th>\n",
       "      <td>29.0</td>\n",
       "      <td>87.0</td>\n",
       "      <td>77</td>\n",
       "      <td>100.0</td>\n",
       "    </tr>\n",
       "    <tr>\n",
       "      <th>4</th>\n",
       "      <td>70.0</td>\n",
       "      <td>71.0</td>\n",
       "      <td>78</td>\n",
       "      <td>67.0</td>\n",
       "    </tr>\n",
       "    <tr>\n",
       "      <th>5</th>\n",
       "      <td>66.0</td>\n",
       "      <td>NaN</td>\n",
       "      <td>53</td>\n",
       "      <td>NaN</td>\n",
       "    </tr>\n",
       "    <tr>\n",
       "      <th>6</th>\n",
       "      <td>29.0</td>\n",
       "      <td>26.0</td>\n",
       "      <td>44</td>\n",
       "      <td>52.0</td>\n",
       "    </tr>\n",
       "    <tr>\n",
       "      <th>7</th>\n",
       "      <td>NaN</td>\n",
       "      <td>54.0</td>\n",
       "      <td>37</td>\n",
       "      <td>59.0</td>\n",
       "    </tr>\n",
       "    <tr>\n",
       "      <th>8</th>\n",
       "      <td>45.0</td>\n",
       "      <td>NaN</td>\n",
       "      <td>7</td>\n",
       "      <td>44.0</td>\n",
       "    </tr>\n",
       "    <tr>\n",
       "      <th>9</th>\n",
       "      <td>68.0</td>\n",
       "      <td>41.0</td>\n",
       "      <td>29</td>\n",
       "      <td>81.0</td>\n",
       "    </tr>\n",
       "  </tbody>\n",
       "</table>\n",
       "</div>"
      ],
      "text/plain": [
       "   kokugo  shakai  sugaku   rika\n",
       "0    30.0    43.0      51    NaN\n",
       "1    39.0    21.0      50   56.0\n",
       "2     NaN     NaN      23   57.0\n",
       "3    29.0    87.0      77  100.0\n",
       "4    70.0    71.0      78   67.0\n",
       "5    66.0     NaN      53    NaN\n",
       "6    29.0    26.0      44   52.0\n",
       "7     NaN    54.0      37   59.0\n",
       "8    45.0     NaN       7   44.0\n",
       "9    68.0    41.0      29   81.0"
      ]
     },
     "execution_count": 2,
     "metadata": {},
     "output_type": "execute_result"
    }
   ],
   "source": [
    "score = pd.read_csv('score_missing.csv')\n",
    "score"
   ]
  },
  {
   "cell_type": "markdown",
   "metadata": {},
   "source": [
    "データフレームに欠損値が含まれるかどうかはpandasの`isnull()`メソッドを使うと調べることができます。`isnull()`メソッドはデータフレームの各要素の値について、欠損値であれば`True`、欠損値でなければ`False`を要素としたデータフレームを返します。\n",
    "\n",
    "`isnull()`メソッドの詳細は以下を参照してください。\n",
    "\n",
    "[isnull()](https://pandas.pydata.org/pandas-docs/stable/generated/pandas.isnull.html#pandas.isnull)"
   ]
  },
  {
   "cell_type": "code",
   "execution_count": 3,
   "metadata": {},
   "outputs": [
    {
     "data": {
      "text/html": [
       "<div>\n",
       "<style scoped>\n",
       "    .dataframe tbody tr th:only-of-type {\n",
       "        vertical-align: middle;\n",
       "    }\n",
       "\n",
       "    .dataframe tbody tr th {\n",
       "        vertical-align: top;\n",
       "    }\n",
       "\n",
       "    .dataframe thead th {\n",
       "        text-align: right;\n",
       "    }\n",
       "</style>\n",
       "<table border=\"1\" class=\"dataframe\">\n",
       "  <thead>\n",
       "    <tr style=\"text-align: right;\">\n",
       "      <th></th>\n",
       "      <th>kokugo</th>\n",
       "      <th>shakai</th>\n",
       "      <th>sugaku</th>\n",
       "      <th>rika</th>\n",
       "    </tr>\n",
       "  </thead>\n",
       "  <tbody>\n",
       "    <tr>\n",
       "      <th>0</th>\n",
       "      <td>False</td>\n",
       "      <td>False</td>\n",
       "      <td>False</td>\n",
       "      <td>True</td>\n",
       "    </tr>\n",
       "    <tr>\n",
       "      <th>1</th>\n",
       "      <td>False</td>\n",
       "      <td>False</td>\n",
       "      <td>False</td>\n",
       "      <td>False</td>\n",
       "    </tr>\n",
       "    <tr>\n",
       "      <th>2</th>\n",
       "      <td>True</td>\n",
       "      <td>True</td>\n",
       "      <td>False</td>\n",
       "      <td>False</td>\n",
       "    </tr>\n",
       "    <tr>\n",
       "      <th>3</th>\n",
       "      <td>False</td>\n",
       "      <td>False</td>\n",
       "      <td>False</td>\n",
       "      <td>False</td>\n",
       "    </tr>\n",
       "    <tr>\n",
       "      <th>4</th>\n",
       "      <td>False</td>\n",
       "      <td>False</td>\n",
       "      <td>False</td>\n",
       "      <td>False</td>\n",
       "    </tr>\n",
       "    <tr>\n",
       "      <th>5</th>\n",
       "      <td>False</td>\n",
       "      <td>True</td>\n",
       "      <td>False</td>\n",
       "      <td>True</td>\n",
       "    </tr>\n",
       "    <tr>\n",
       "      <th>6</th>\n",
       "      <td>False</td>\n",
       "      <td>False</td>\n",
       "      <td>False</td>\n",
       "      <td>False</td>\n",
       "    </tr>\n",
       "    <tr>\n",
       "      <th>7</th>\n",
       "      <td>True</td>\n",
       "      <td>False</td>\n",
       "      <td>False</td>\n",
       "      <td>False</td>\n",
       "    </tr>\n",
       "    <tr>\n",
       "      <th>8</th>\n",
       "      <td>False</td>\n",
       "      <td>True</td>\n",
       "      <td>False</td>\n",
       "      <td>False</td>\n",
       "    </tr>\n",
       "    <tr>\n",
       "      <th>9</th>\n",
       "      <td>False</td>\n",
       "      <td>False</td>\n",
       "      <td>False</td>\n",
       "      <td>False</td>\n",
       "    </tr>\n",
       "  </tbody>\n",
       "</table>\n",
       "</div>"
      ],
      "text/plain": [
       "   kokugo  shakai  sugaku   rika\n",
       "0   False   False   False   True\n",
       "1   False   False   False  False\n",
       "2    True    True   False  False\n",
       "3   False   False   False  False\n",
       "4   False   False   False  False\n",
       "5   False    True   False   True\n",
       "6   False   False   False  False\n",
       "7    True   False   False  False\n",
       "8   False    True   False  False\n",
       "9   False   False   False  False"
      ]
     },
     "execution_count": 3,
     "metadata": {},
     "output_type": "execute_result"
    }
   ],
   "source": [
    "score.isnull()"
   ]
  },
  {
   "cell_type": "markdown",
   "metadata": {},
   "source": [
    "`isnull()`メソッドで返された上記のデータフレームの`any()`メソッド使うと、データフレームにおいて欠損値を含む行または列を調べることができます。以下では、列ごとに欠損値を含むかどうかを示すシリーズオブジェクトを返します。"
   ]
  },
  {
   "cell_type": "code",
   "execution_count": 4,
   "metadata": {},
   "outputs": [
    {
     "data": {
      "text/plain": [
       "kokugo     True\n",
       "shakai     True\n",
       "sugaku    False\n",
       "rika       True\n",
       "dtype: bool"
      ]
     },
     "execution_count": 4,
     "metadata": {},
     "output_type": "execute_result"
    }
   ],
   "source": [
    "# 列ごとに欠損値があるか調べる\n",
    "score.isnull().any()"
   ]
  },
  {
   "cell_type": "markdown",
   "metadata": {},
   "source": [
    "上記で`any()メソッド`の引数`axix`を1とすると、行ごとに欠損値を含むかどうかを示すシリーズオブジェクトを返します。"
   ]
  },
  {
   "cell_type": "code",
   "execution_count": 5,
   "metadata": {},
   "outputs": [
    {
     "data": {
      "text/plain": [
       "0     True\n",
       "1    False\n",
       "2     True\n",
       "3    False\n",
       "4    False\n",
       "5     True\n",
       "6    False\n",
       "7     True\n",
       "8     True\n",
       "9    False\n",
       "dtype: bool"
      ]
     },
     "execution_count": 5,
     "metadata": {},
     "output_type": "execute_result"
    }
   ],
   "source": [
    "# 行ごとに欠損値があるか調べる\n",
    "score.isnull().any(axis=1)"
   ]
  },
  {
   "cell_type": "markdown",
   "metadata": {},
   "source": [
    "上記のシリーズオブジェクトを以下のようデータフレーム抽出の条件として用いると、元のデータフレームから欠損値を含む行または列からなるデータフレームを抽出できます。"
   ]
  },
  {
   "cell_type": "code",
   "execution_count": 6,
   "metadata": {},
   "outputs": [
    {
     "data": {
      "text/html": [
       "<div>\n",
       "<style scoped>\n",
       "    .dataframe tbody tr th:only-of-type {\n",
       "        vertical-align: middle;\n",
       "    }\n",
       "\n",
       "    .dataframe tbody tr th {\n",
       "        vertical-align: top;\n",
       "    }\n",
       "\n",
       "    .dataframe thead th {\n",
       "        text-align: right;\n",
       "    }\n",
       "</style>\n",
       "<table border=\"1\" class=\"dataframe\">\n",
       "  <thead>\n",
       "    <tr style=\"text-align: right;\">\n",
       "      <th></th>\n",
       "      <th>kokugo</th>\n",
       "      <th>shakai</th>\n",
       "      <th>sugaku</th>\n",
       "      <th>rika</th>\n",
       "    </tr>\n",
       "  </thead>\n",
       "  <tbody>\n",
       "    <tr>\n",
       "      <th>0</th>\n",
       "      <td>30.0</td>\n",
       "      <td>43.0</td>\n",
       "      <td>51</td>\n",
       "      <td>NaN</td>\n",
       "    </tr>\n",
       "    <tr>\n",
       "      <th>2</th>\n",
       "      <td>NaN</td>\n",
       "      <td>NaN</td>\n",
       "      <td>23</td>\n",
       "      <td>57.0</td>\n",
       "    </tr>\n",
       "    <tr>\n",
       "      <th>5</th>\n",
       "      <td>66.0</td>\n",
       "      <td>NaN</td>\n",
       "      <td>53</td>\n",
       "      <td>NaN</td>\n",
       "    </tr>\n",
       "    <tr>\n",
       "      <th>7</th>\n",
       "      <td>NaN</td>\n",
       "      <td>54.0</td>\n",
       "      <td>37</td>\n",
       "      <td>59.0</td>\n",
       "    </tr>\n",
       "    <tr>\n",
       "      <th>8</th>\n",
       "      <td>45.0</td>\n",
       "      <td>NaN</td>\n",
       "      <td>7</td>\n",
       "      <td>44.0</td>\n",
       "    </tr>\n",
       "  </tbody>\n",
       "</table>\n",
       "</div>"
      ],
      "text/plain": [
       "   kokugo  shakai  sugaku  rika\n",
       "0    30.0    43.0      51   NaN\n",
       "2     NaN     NaN      23  57.0\n",
       "5    66.0     NaN      53   NaN\n",
       "7     NaN    54.0      37  59.0\n",
       "8    45.0     NaN       7  44.0"
      ]
     },
     "execution_count": 6,
     "metadata": {},
     "output_type": "execute_result"
    }
   ],
   "source": [
    "# データフレームから欠損値を含む行を抽出\n",
    "score[score.isnull().any(axis=1)]"
   ]
  },
  {
   "cell_type": "code",
   "execution_count": 7,
   "metadata": {},
   "outputs": [
    {
     "data": {
      "text/html": [
       "<div>\n",
       "<style scoped>\n",
       "    .dataframe tbody tr th:only-of-type {\n",
       "        vertical-align: middle;\n",
       "    }\n",
       "\n",
       "    .dataframe tbody tr th {\n",
       "        vertical-align: top;\n",
       "    }\n",
       "\n",
       "    .dataframe thead th {\n",
       "        text-align: right;\n",
       "    }\n",
       "</style>\n",
       "<table border=\"1\" class=\"dataframe\">\n",
       "  <thead>\n",
       "    <tr style=\"text-align: right;\">\n",
       "      <th></th>\n",
       "      <th>kokugo</th>\n",
       "      <th>shakai</th>\n",
       "      <th>rika</th>\n",
       "    </tr>\n",
       "  </thead>\n",
       "  <tbody>\n",
       "    <tr>\n",
       "      <th>0</th>\n",
       "      <td>30.0</td>\n",
       "      <td>43.0</td>\n",
       "      <td>NaN</td>\n",
       "    </tr>\n",
       "    <tr>\n",
       "      <th>1</th>\n",
       "      <td>39.0</td>\n",
       "      <td>21.0</td>\n",
       "      <td>56.0</td>\n",
       "    </tr>\n",
       "    <tr>\n",
       "      <th>2</th>\n",
       "      <td>NaN</td>\n",
       "      <td>NaN</td>\n",
       "      <td>57.0</td>\n",
       "    </tr>\n",
       "    <tr>\n",
       "      <th>3</th>\n",
       "      <td>29.0</td>\n",
       "      <td>87.0</td>\n",
       "      <td>100.0</td>\n",
       "    </tr>\n",
       "    <tr>\n",
       "      <th>4</th>\n",
       "      <td>70.0</td>\n",
       "      <td>71.0</td>\n",
       "      <td>67.0</td>\n",
       "    </tr>\n",
       "    <tr>\n",
       "      <th>5</th>\n",
       "      <td>66.0</td>\n",
       "      <td>NaN</td>\n",
       "      <td>NaN</td>\n",
       "    </tr>\n",
       "    <tr>\n",
       "      <th>6</th>\n",
       "      <td>29.0</td>\n",
       "      <td>26.0</td>\n",
       "      <td>52.0</td>\n",
       "    </tr>\n",
       "    <tr>\n",
       "      <th>7</th>\n",
       "      <td>NaN</td>\n",
       "      <td>54.0</td>\n",
       "      <td>59.0</td>\n",
       "    </tr>\n",
       "    <tr>\n",
       "      <th>8</th>\n",
       "      <td>45.0</td>\n",
       "      <td>NaN</td>\n",
       "      <td>44.0</td>\n",
       "    </tr>\n",
       "    <tr>\n",
       "      <th>9</th>\n",
       "      <td>68.0</td>\n",
       "      <td>41.0</td>\n",
       "      <td>81.0</td>\n",
       "    </tr>\n",
       "  </tbody>\n",
       "</table>\n",
       "</div>"
      ],
      "text/plain": [
       "   kokugo  shakai   rika\n",
       "0    30.0    43.0    NaN\n",
       "1    39.0    21.0   56.0\n",
       "2     NaN     NaN   57.0\n",
       "3    29.0    87.0  100.0\n",
       "4    70.0    71.0   67.0\n",
       "5    66.0     NaN    NaN\n",
       "6    29.0    26.0   52.0\n",
       "7     NaN    54.0   59.0\n",
       "8    45.0     NaN   44.0\n",
       "9    68.0    41.0   81.0"
      ]
     },
     "execution_count": 7,
     "metadata": {},
     "output_type": "execute_result"
    }
   ],
   "source": [
    "# データフレームから欠損値を含む列を抽出\n",
    "score.loc[:, score.isnull().any()]"
   ]
  },
  {
   "cell_type": "markdown",
   "metadata": {},
   "source": [
    "### 欠損値の削除\n",
    "pandasの`dropna()`メソッドを使うと欠損値を含む行を削除することができます。`dropna()`メソッドでは、この他にもさまざまな方法で欠損値を削除することができます。詳細は以下を参照してください。\n",
    "\n",
    "[dropna()](https://pandas.pydata.org/pandas-docs/stable/generated/pandas.DataFrame.dropna.html)"
   ]
  },
  {
   "cell_type": "code",
   "execution_count": 8,
   "metadata": {},
   "outputs": [
    {
     "data": {
      "text/html": [
       "<div>\n",
       "<style scoped>\n",
       "    .dataframe tbody tr th:only-of-type {\n",
       "        vertical-align: middle;\n",
       "    }\n",
       "\n",
       "    .dataframe tbody tr th {\n",
       "        vertical-align: top;\n",
       "    }\n",
       "\n",
       "    .dataframe thead th {\n",
       "        text-align: right;\n",
       "    }\n",
       "</style>\n",
       "<table border=\"1\" class=\"dataframe\">\n",
       "  <thead>\n",
       "    <tr style=\"text-align: right;\">\n",
       "      <th></th>\n",
       "      <th>kokugo</th>\n",
       "      <th>shakai</th>\n",
       "      <th>sugaku</th>\n",
       "      <th>rika</th>\n",
       "    </tr>\n",
       "  </thead>\n",
       "  <tbody>\n",
       "    <tr>\n",
       "      <th>1</th>\n",
       "      <td>39.0</td>\n",
       "      <td>21.0</td>\n",
       "      <td>50</td>\n",
       "      <td>56.0</td>\n",
       "    </tr>\n",
       "    <tr>\n",
       "      <th>3</th>\n",
       "      <td>29.0</td>\n",
       "      <td>87.0</td>\n",
       "      <td>77</td>\n",
       "      <td>100.0</td>\n",
       "    </tr>\n",
       "    <tr>\n",
       "      <th>4</th>\n",
       "      <td>70.0</td>\n",
       "      <td>71.0</td>\n",
       "      <td>78</td>\n",
       "      <td>67.0</td>\n",
       "    </tr>\n",
       "    <tr>\n",
       "      <th>6</th>\n",
       "      <td>29.0</td>\n",
       "      <td>26.0</td>\n",
       "      <td>44</td>\n",
       "      <td>52.0</td>\n",
       "    </tr>\n",
       "    <tr>\n",
       "      <th>9</th>\n",
       "      <td>68.0</td>\n",
       "      <td>41.0</td>\n",
       "      <td>29</td>\n",
       "      <td>81.0</td>\n",
       "    </tr>\n",
       "  </tbody>\n",
       "</table>\n",
       "</div>"
      ],
      "text/plain": [
       "   kokugo  shakai  sugaku   rika\n",
       "1    39.0    21.0      50   56.0\n",
       "3    29.0    87.0      77  100.0\n",
       "4    70.0    71.0      78   67.0\n",
       "6    29.0    26.0      44   52.0\n",
       "9    68.0    41.0      29   81.0"
      ]
     },
     "execution_count": 8,
     "metadata": {},
     "output_type": "execute_result"
    }
   ],
   "source": [
    "score.dropna()"
   ]
  },
  {
   "cell_type": "markdown",
   "metadata": {},
   "source": [
    "### 欠損値の補完\n",
    "pandasの`fillna()`メソッドを使うと欠損値を補完することができます。以下では、欠損値が含まれる列の欠損がない要素の値の平均値でその列にある欠損値を補完しています。`fillna()`メソッドでは、この他にもさまざまな方法で欠損値を補完することができます。詳細は以下を参照してください。\n",
    "\n",
    "[fillna()](https://pandas.pydata.org/pandas-docs/stable/generated/pandas.DataFrame.fillna.html)"
   ]
  },
  {
   "cell_type": "code",
   "execution_count": 9,
   "metadata": {},
   "outputs": [
    {
     "data": {
      "text/html": [
       "<div>\n",
       "<style scoped>\n",
       "    .dataframe tbody tr th:only-of-type {\n",
       "        vertical-align: middle;\n",
       "    }\n",
       "\n",
       "    .dataframe tbody tr th {\n",
       "        vertical-align: top;\n",
       "    }\n",
       "\n",
       "    .dataframe thead th {\n",
       "        text-align: right;\n",
       "    }\n",
       "</style>\n",
       "<table border=\"1\" class=\"dataframe\">\n",
       "  <thead>\n",
       "    <tr style=\"text-align: right;\">\n",
       "      <th></th>\n",
       "      <th>kokugo</th>\n",
       "      <th>shakai</th>\n",
       "      <th>sugaku</th>\n",
       "      <th>rika</th>\n",
       "    </tr>\n",
       "  </thead>\n",
       "  <tbody>\n",
       "    <tr>\n",
       "      <th>0</th>\n",
       "      <td>30.0</td>\n",
       "      <td>43.0</td>\n",
       "      <td>51</td>\n",
       "      <td>64.5</td>\n",
       "    </tr>\n",
       "    <tr>\n",
       "      <th>1</th>\n",
       "      <td>39.0</td>\n",
       "      <td>21.0</td>\n",
       "      <td>50</td>\n",
       "      <td>56.0</td>\n",
       "    </tr>\n",
       "    <tr>\n",
       "      <th>2</th>\n",
       "      <td>47.0</td>\n",
       "      <td>49.0</td>\n",
       "      <td>23</td>\n",
       "      <td>57.0</td>\n",
       "    </tr>\n",
       "    <tr>\n",
       "      <th>3</th>\n",
       "      <td>29.0</td>\n",
       "      <td>87.0</td>\n",
       "      <td>77</td>\n",
       "      <td>100.0</td>\n",
       "    </tr>\n",
       "    <tr>\n",
       "      <th>4</th>\n",
       "      <td>70.0</td>\n",
       "      <td>71.0</td>\n",
       "      <td>78</td>\n",
       "      <td>67.0</td>\n",
       "    </tr>\n",
       "    <tr>\n",
       "      <th>5</th>\n",
       "      <td>66.0</td>\n",
       "      <td>49.0</td>\n",
       "      <td>53</td>\n",
       "      <td>64.5</td>\n",
       "    </tr>\n",
       "    <tr>\n",
       "      <th>6</th>\n",
       "      <td>29.0</td>\n",
       "      <td>26.0</td>\n",
       "      <td>44</td>\n",
       "      <td>52.0</td>\n",
       "    </tr>\n",
       "    <tr>\n",
       "      <th>7</th>\n",
       "      <td>47.0</td>\n",
       "      <td>54.0</td>\n",
       "      <td>37</td>\n",
       "      <td>59.0</td>\n",
       "    </tr>\n",
       "    <tr>\n",
       "      <th>8</th>\n",
       "      <td>45.0</td>\n",
       "      <td>49.0</td>\n",
       "      <td>7</td>\n",
       "      <td>44.0</td>\n",
       "    </tr>\n",
       "    <tr>\n",
       "      <th>9</th>\n",
       "      <td>68.0</td>\n",
       "      <td>41.0</td>\n",
       "      <td>29</td>\n",
       "      <td>81.0</td>\n",
       "    </tr>\n",
       "  </tbody>\n",
       "</table>\n",
       "</div>"
      ],
      "text/plain": [
       "   kokugo  shakai  sugaku   rika\n",
       "0    30.0    43.0      51   64.5\n",
       "1    39.0    21.0      50   56.0\n",
       "2    47.0    49.0      23   57.0\n",
       "3    29.0    87.0      77  100.0\n",
       "4    70.0    71.0      78   67.0\n",
       "5    66.0    49.0      53   64.5\n",
       "6    29.0    26.0      44   52.0\n",
       "7    47.0    54.0      37   59.0\n",
       "8    45.0    49.0       7   44.0\n",
       "9    68.0    41.0      29   81.0"
      ]
     },
     "execution_count": 9,
     "metadata": {},
     "output_type": "execute_result"
    }
   ],
   "source": [
    "score = pd.read_csv('score_missing.csv')\n",
    "score.fillna(score.mean())"
   ]
  },
  {
   "cell_type": "markdown",
   "metadata": {},
   "source": [
    "### Q1.1\n",
    "欠損値（空値）を含む得点データのcsvファイル, 'score_missing.csv', を読み込み作成したデータフレームを受け取り、各列の欠損値をその列の欠損がない要素の値の中央値で補完したデータフレームを返す`fill_median()`関数を完成させてください。"
   ]
  },
  {
   "cell_type": "code",
   "execution_count": 10,
   "metadata": {},
   "outputs": [
    {
     "data": {
      "text/html": [
       "<div>\n",
       "<style scoped>\n",
       "    .dataframe tbody tr th:only-of-type {\n",
       "        vertical-align: middle;\n",
       "    }\n",
       "\n",
       "    .dataframe tbody tr th {\n",
       "        vertical-align: top;\n",
       "    }\n",
       "\n",
       "    .dataframe thead th {\n",
       "        text-align: right;\n",
       "    }\n",
       "</style>\n",
       "<table border=\"1\" class=\"dataframe\">\n",
       "  <thead>\n",
       "    <tr style=\"text-align: right;\">\n",
       "      <th></th>\n",
       "      <th>kokugo</th>\n",
       "      <th>shakai</th>\n",
       "      <th>sugaku</th>\n",
       "      <th>rika</th>\n",
       "    </tr>\n",
       "  </thead>\n",
       "  <tbody>\n",
       "    <tr>\n",
       "      <th>0</th>\n",
       "      <td>30.0</td>\n",
       "      <td>43.0</td>\n",
       "      <td>51</td>\n",
       "      <td>58.0</td>\n",
       "    </tr>\n",
       "    <tr>\n",
       "      <th>1</th>\n",
       "      <td>39.0</td>\n",
       "      <td>21.0</td>\n",
       "      <td>50</td>\n",
       "      <td>56.0</td>\n",
       "    </tr>\n",
       "    <tr>\n",
       "      <th>2</th>\n",
       "      <td>42.0</td>\n",
       "      <td>43.0</td>\n",
       "      <td>23</td>\n",
       "      <td>57.0</td>\n",
       "    </tr>\n",
       "    <tr>\n",
       "      <th>3</th>\n",
       "      <td>29.0</td>\n",
       "      <td>87.0</td>\n",
       "      <td>77</td>\n",
       "      <td>100.0</td>\n",
       "    </tr>\n",
       "    <tr>\n",
       "      <th>4</th>\n",
       "      <td>70.0</td>\n",
       "      <td>71.0</td>\n",
       "      <td>78</td>\n",
       "      <td>67.0</td>\n",
       "    </tr>\n",
       "    <tr>\n",
       "      <th>5</th>\n",
       "      <td>66.0</td>\n",
       "      <td>43.0</td>\n",
       "      <td>53</td>\n",
       "      <td>58.0</td>\n",
       "    </tr>\n",
       "    <tr>\n",
       "      <th>6</th>\n",
       "      <td>29.0</td>\n",
       "      <td>26.0</td>\n",
       "      <td>44</td>\n",
       "      <td>52.0</td>\n",
       "    </tr>\n",
       "    <tr>\n",
       "      <th>7</th>\n",
       "      <td>42.0</td>\n",
       "      <td>54.0</td>\n",
       "      <td>37</td>\n",
       "      <td>59.0</td>\n",
       "    </tr>\n",
       "    <tr>\n",
       "      <th>8</th>\n",
       "      <td>45.0</td>\n",
       "      <td>43.0</td>\n",
       "      <td>7</td>\n",
       "      <td>44.0</td>\n",
       "    </tr>\n",
       "    <tr>\n",
       "      <th>9</th>\n",
       "      <td>68.0</td>\n",
       "      <td>41.0</td>\n",
       "      <td>29</td>\n",
       "      <td>81.0</td>\n",
       "    </tr>\n",
       "  </tbody>\n",
       "</table>\n",
       "</div>"
      ],
      "text/plain": [
       "   kokugo  shakai  sugaku   rika\n",
       "0    30.0    43.0      51   58.0\n",
       "1    39.0    21.0      50   56.0\n",
       "2    42.0    43.0      23   57.0\n",
       "3    29.0    87.0      77  100.0\n",
       "4    70.0    71.0      78   67.0\n",
       "5    66.0    43.0      53   58.0\n",
       "6    29.0    26.0      44   52.0\n",
       "7    42.0    54.0      37   59.0\n",
       "8    45.0    43.0       7   44.0\n",
       "9    68.0    41.0      29   81.0"
      ]
     },
     "execution_count": 10,
     "metadata": {},
     "output_type": "execute_result"
    }
   ],
   "source": [
    "score = pd.read_csv('score_missing.csv') # csvファイル読み込み\n",
    "def fill_median(df):\n",
    "    return df.fillna(df.median())\n",
    "fill_median(score)"
   ]
  },
  {
   "cell_type": "markdown",
   "metadata": {},
   "source": [
    "`fill_median()`関数が完成したら、以下のセルを実行してデータフレームのすべての要素の和を求めることで動作を確認してください。すべての要素の和は`2013`となります。"
   ]
  },
  {
   "cell_type": "code",
   "execution_count": 11,
   "metadata": {},
   "outputs": [
    {
     "data": {
      "text/plain": [
       "2013.0"
      ]
     },
     "execution_count": 11,
     "metadata": {},
     "output_type": "execute_result"
    }
   ],
   "source": [
    "fill_median(score).sum().sum()"
   ]
  },
  {
   "cell_type": "code",
   "execution_count": 12,
   "metadata": {},
   "outputs": [],
   "source": [
    "### このセルは変更しないでください ###\n",
    "assert 2013 == fill_median(score).sum().sum()"
   ]
  },
  {
   "cell_type": "markdown",
   "metadata": {},
   "source": [
    "## Q2 外れ値の処理\n",
    "### NumPyでの記述統計\n",
    "以下では、次のような形式の\"exam_score.csv\"ファイルを読み込み、NumPyの配列を作成し、NumPyの関数または`ndarray`オブジェクトのメソッドを用いて、配列の記述統計を求めています。\n",
    "```Python\n",
    "## exam_score.csvファイル\n",
    "kokugo, shakai, sugaku, rika\n",
    "30, 43, 51, 63\n",
    "39, 21, 49, 56\n",
    "...\n",
    "```"
   ]
  },
  {
   "cell_type": "code",
   "execution_count": 13,
   "metadata": {},
   "outputs": [],
   "source": [
    "# csvファイルからNumPy配列の作成\n",
    "score = np.loadtxt(\"exam_score.csv\", delimiter=\",\", skiprows=1)"
   ]
  },
  {
   "cell_type": "code",
   "execution_count": 14,
   "metadata": {},
   "outputs": [
    {
     "name": "stdout",
     "output_type": "stream",
     "text": [
      "[52.3313253  39.60240964 45.61445783 49.88554217]\n",
      "[473.93239222 457.60095805 583.85135724 455.54714037]\n",
      "[53. 35. 43. 49.]\n",
      "[ 96.  90. 100. 100.]\n",
      "[0. 4. 0. 9.]\n"
     ]
    }
   ],
   "source": [
    "# NumPyの関数で配列の各列の平均、分散、中央値、最大、最小を求める\n",
    "print(np.mean(score, axis=0)) # 平均\n",
    "print(np.var(score, axis=0)) # 分散\n",
    "print(np.median(score, axis=0)) # 中央値\n",
    "print(np.amax(score, axis=0)) # 最大値\n",
    "print(np.amin(score, axis=0)) # 最小値"
   ]
  },
  {
   "cell_type": "code",
   "execution_count": 15,
   "metadata": {},
   "outputs": [
    {
     "name": "stdout",
     "output_type": "stream",
     "text": [
      "[52.3313253  39.60240964 45.61445783 49.88554217]\n",
      "[473.93239222 457.60095805 583.85135724 455.54714037]\n",
      "[ 96.  90. 100. 100.]\n",
      "[0. 4. 0. 9.]\n"
     ]
    }
   ],
   "source": [
    "# ndarrayのメソッドで配列の各列の平均、分散、最大、最小を求める\n",
    "print(score.mean(0)) # 平均\n",
    "print(score.var(0)) # 分散\n",
    "print(score.max(0)) # 最大値\n",
    "print(score.min(0)) # 最小値"
   ]
  },
  {
   "cell_type": "markdown",
   "metadata": {},
   "source": [
    "### Q2.1\n",
    "整数を要素とする任意の長さの1次元配列を入力として受け取り、配列の要素の値の中で、以下の外れ値の基準にあてはまる要素からなる1次元配列を返す`find_outliers()`関数を完成させてください。なお、IQRは四分位範囲であり、第3四分位から第1四分位を引いた値です。\n",
    "- （第1四分位-1.5IQR）を値の下限としてそれより小さい値は外れ値とする\n",
    "- （第3四分位+1.5IQR）を値の上限としてそれより大きい値は外れ値とする\n",
    "\n",
    "配列の第1四分位と第3四分位は、NumPyの`percentile()`関数を用いて以下のように求められる。\n",
    "```Python\n",
    "第1四分位, 第3四分位=np.percentile(配列, [25, 75])\n",
    "```"
   ]
  },
  {
   "cell_type": "code",
   "execution_count": 16,
   "metadata": {},
   "outputs": [],
   "source": [
    "def find_outliers(input_array):\n",
    "    q1, q3 = np.percentile(input_array, [25, 75])\n",
    "    iqr = q3 - q1\n",
    "    lower = q1 - 1.5*iqr\n",
    "    upper = q3 + 1.5*iqr\n",
    "    return input_array[(input_array>upper) | (input_array < lower)]"
   ]
  },
  {
   "cell_type": "markdown",
   "metadata": {},
   "source": [
    "`find_outliers()`関数が完成したら、以下のセルを実行して動作を確認してください。`[-100, 200, 1000]`が外れ値の配列です。"
   ]
  },
  {
   "cell_type": "code",
   "execution_count": 17,
   "metadata": {},
   "outputs": [
    {
     "data": {
      "text/plain": [
       "array([-100,  200, 1000])"
      ]
     },
     "execution_count": 17,
     "metadata": {},
     "output_type": "execute_result"
    }
   ],
   "source": [
    "find_outliers(np.array([30,39,-100,29,95,70,67,200,29,1000,56,45,68]))"
   ]
  },
  {
   "cell_type": "code",
   "execution_count": 18,
   "metadata": {},
   "outputs": [],
   "source": [
    "### このセルは変更しないでください ###\n",
    "assert [-100, 200, 1000] == find_outliers(np.array([30,39,-100,29,95,70,67,200,29,1000,56,45,68])).tolist()"
   ]
  },
  {
   "cell_type": "markdown",
   "metadata": {},
   "source": [
    "### Q2.2\n",
    "以下のような形式の\"score_outlier.csv\"ファイルを読み込み、データフレーム`score`を作成します。\n",
    "```Python\n",
    "## score_outlier.csvファイル\n",
    "kokugo, shakai, sugaku, rika\n",
    "30, 43, 51, 63\n",
    "39, 21, 49, 56\n",
    "...\n",
    "```\n",
    "`score`を受け取り、各列ごとに、Q2.1と同様に四分位範囲, 第3四分位, 第1四分位を用いて外れ値を検出し、外れ値を含む行を除いたデータフレームを返す関数`drop_outliers()`を完成させてください。データフレームの各列の第1四分位と第3四分位は、pandasの`describe()`関数を用いて以下のように求められる。\n",
    "```Python\n",
    "第1四分位 = データフレーム[列名].describe()['25%']\n",
    "第3四分位 = データフレーム[列名].describe()['75%']\n",
    "```"
   ]
  },
  {
   "cell_type": "code",
   "execution_count": 23,
   "metadata": {},
   "outputs": [
    {
     "data": {
      "text/html": [
       "<div>\n",
       "<style scoped>\n",
       "    .dataframe tbody tr th:only-of-type {\n",
       "        vertical-align: middle;\n",
       "    }\n",
       "\n",
       "    .dataframe tbody tr th {\n",
       "        vertical-align: top;\n",
       "    }\n",
       "\n",
       "    .dataframe thead th {\n",
       "        text-align: right;\n",
       "    }\n",
       "</style>\n",
       "<table border=\"1\" class=\"dataframe\">\n",
       "  <thead>\n",
       "    <tr style=\"text-align: right;\">\n",
       "      <th></th>\n",
       "      <th>kokugo</th>\n",
       "      <th>shakai</th>\n",
       "      <th>sugaku</th>\n",
       "      <th>rika</th>\n",
       "    </tr>\n",
       "  </thead>\n",
       "  <tbody>\n",
       "    <tr>\n",
       "      <th>0</th>\n",
       "      <td>30</td>\n",
       "      <td>43</td>\n",
       "      <td>51</td>\n",
       "      <td>63</td>\n",
       "    </tr>\n",
       "    <tr>\n",
       "      <th>1</th>\n",
       "      <td>39</td>\n",
       "      <td>21</td>\n",
       "      <td>49</td>\n",
       "      <td>56</td>\n",
       "    </tr>\n",
       "    <tr>\n",
       "      <th>2</th>\n",
       "      <td>29</td>\n",
       "      <td>30</td>\n",
       "      <td>23</td>\n",
       "      <td>57</td>\n",
       "    </tr>\n",
       "    <tr>\n",
       "      <th>3</th>\n",
       "      <td>95</td>\n",
       "      <td>87</td>\n",
       "      <td>77</td>\n",
       "      <td>100</td>\n",
       "    </tr>\n",
       "    <tr>\n",
       "      <th>4</th>\n",
       "      <td>70</td>\n",
       "      <td>71</td>\n",
       "      <td>78</td>\n",
       "      <td>67</td>\n",
       "    </tr>\n",
       "    <tr>\n",
       "      <th>5</th>\n",
       "      <td>67</td>\n",
       "      <td>53</td>\n",
       "      <td>56</td>\n",
       "      <td>61</td>\n",
       "    </tr>\n",
       "    <tr>\n",
       "      <th>6</th>\n",
       "      <td>29</td>\n",
       "      <td>26</td>\n",
       "      <td>44</td>\n",
       "      <td>52</td>\n",
       "    </tr>\n",
       "    <tr>\n",
       "      <th>7</th>\n",
       "      <td>56</td>\n",
       "      <td>54</td>\n",
       "      <td>37</td>\n",
       "      <td>59</td>\n",
       "    </tr>\n",
       "    <tr>\n",
       "      <th>8</th>\n",
       "      <td>45</td>\n",
       "      <td>21</td>\n",
       "      <td>7</td>\n",
       "      <td>44</td>\n",
       "    </tr>\n",
       "    <tr>\n",
       "      <th>9</th>\n",
       "      <td>68</td>\n",
       "      <td>41</td>\n",
       "      <td>29</td>\n",
       "      <td>81</td>\n",
       "    </tr>\n",
       "  </tbody>\n",
       "</table>\n",
       "</div>"
      ],
      "text/plain": [
       "   kokugo  shakai  sugaku  rika\n",
       "0      30      43      51    63\n",
       "1      39      21      49    56\n",
       "2      29      30      23    57\n",
       "3      95      87      77   100\n",
       "4      70      71      78    67\n",
       "5      67      53      56    61\n",
       "6      29      26      44    52\n",
       "7      56      54      37    59\n",
       "8      45      21       7    44\n",
       "9      68      41      29    81"
      ]
     },
     "execution_count": 23,
     "metadata": {},
     "output_type": "execute_result"
    }
   ],
   "source": [
    "score = pd.read_csv('score_outlier.csv') # csvファイル読み込み\n",
    "def drop_outliers(df):\n",
    "    columns = df.columns # 列名のリスト\n",
    "    for c in columns: # 各列ごとの処理      \n",
    "        q1 = df[c].describe()['25%']\n",
    "        q3 = df[c].describe()['75%']\n",
    "        iqr =  q3 - q1\n",
    "        lower = q1 - 1.5*iqr\n",
    "        upper = q3 + 1.5*iqr\n",
    "        df = df.drop(df.loc[(df[c]>upper)|(df[c]<lower), :].index)\n",
    "    return df \n",
    "\n",
    "drop_outliers(score).head(10)  # 関数呼び出して外れた値を含む行を除いたデータフレームを表示"
   ]
  },
  {
   "cell_type": "markdown",
   "metadata": {},
   "source": [
    "`drop_outliers()`関数が完成したら、以下のセルを実行して外れ値を含む行を除いたデータフレームの行数を求めることで動作を確認してください。行数は`155`となります。"
   ]
  },
  {
   "cell_type": "code",
   "execution_count": 24,
   "metadata": {},
   "outputs": [
    {
     "data": {
      "text/plain": [
       "155"
      ]
     },
     "execution_count": 24,
     "metadata": {},
     "output_type": "execute_result"
    }
   ],
   "source": [
    "len(drop_outliers(score).index)"
   ]
  },
  {
   "cell_type": "code",
   "execution_count": 25,
   "metadata": {},
   "outputs": [],
   "source": [
    "### このセルは変更しないでください ###\n",
    "assert 155 == len(drop_outliers(score).index)"
   ]
  },
  {
   "cell_type": "markdown",
   "metadata": {},
   "source": [
    "### Q2.3\n",
    "`matplotlib`では、以下のようにして複数の1次配列を入力として、それぞれを箱ひげ図として同時に可視化することができます。\n",
    "```Python\n",
    "plt.boxplot([配列1, 配列2, 配列3, ....], showmeans=True);\n",
    "```\n",
    "\"score_outlier.csv\"ファイルを読み込み、NumPyの配列を作成し、各教科の点数の箱ひげ図を可視化してください。"
   ]
  },
  {
   "cell_type": "code",
   "execution_count": 43,
   "metadata": {},
   "outputs": [
    {
     "data": {
      "image/png": "[encoded data removed]",
      "text/plain": [
       "<Figure size 432x288 with 1 Axes>"
      ]
     },
     "metadata": {},
     "output_type": "display_data"
    }
   ],
   "source": [
    "# csvファイルからNumPy配列の作成\n",
    "score = np.loadtxt(\"score_outlier.csv\",delimiter=\",\", skiprows=1)\n",
    "plt.boxplot([score.T[0], score.T[1],score.T[2], score.T[3]], showmeans=True);"
   ]
  },
  {
   "cell_type": "markdown",
   "metadata": {},
   "source": [
    "## Q3 標準化\n",
    "以下のような形式の\"exam_score.csv\"ファイルを読み込み、作成したNumPyの配列を受け取り、各教科の点数をその教科の平均値と分散を用いて標準化した配列を返す`normalize_score()`関数を完成させてください。平均値と分散の計算には、NumPyの関数またはndarrayオブジェクトのメソッド、どちらを使ってもよいです。また、分散は標本分散としてください。\n",
    "```Python\n",
    "## exam_score.csvファイル\n",
    "kokugo, shakai, sugaku, rika\n",
    "30, 43, 51, 63\n",
    "39, 21, 49, 56\n",
    "...\n",
    "```\n",
    "\n",
    "配列の列ごとに関数やメソッドを適用するには以下のように`axis`引数を0とする。\n",
    "```Python\n",
    "np.mean(配列, axis=0)\n",
    "配列.mean(axis=0)\n",
    "```\n",
    "また、配列の元の次元を保持したい場合は`keepdims`引数をTrueとする。\n",
    "```Python\n",
    "np.mean(配列, axis=0, keepdims=True)\n",
    "配列.mean(axis=0, keepdims=True)\n",
    "```"
   ]
  },
  {
   "cell_type": "code",
   "execution_count": 45,
   "metadata": {},
   "outputs": [
    {
     "data": {
      "text/plain": [
       "array([[-0.7421071 , -0.16984799,  0.18231146,  0.71055064],\n",
       "       [-0.34592771, -1.13828648,  0.0942716 ,  0.40241112],\n",
       "       [-0.78612703, -0.7421071 , -1.05024661,  0.44643105],\n",
       "       [ 2.11918844,  1.76702899,  1.32682968,  2.3392881 ],\n",
       "       [ 1.01869016,  1.06271009,  1.37084961,  0.88663036],\n",
       "       [ 0.88663036,  0.27035133,  0.40241112,  0.62251078],\n",
       "       [-0.78612703, -0.91818682, -0.12582806,  0.22633139],\n",
       "       [ 0.40241112,  0.31437126, -0.43396758,  0.53447091],\n",
       "       [-0.08180813, -1.13828648, -1.75456552, -0.12582806],\n",
       "       [ 0.93065029, -0.25788785, -0.78612703,  1.5029094 ],\n",
       "       [ 0.13829153, -0.16984799,  1.45888947,  1.15074995],\n",
       "       [ 1.01869016,  0.62251078,  0.62251078,  1.06271009],\n",
       "       [-0.03778819, -0.43396758, -0.47798751,  0.40241112],\n",
       "       [-1.05024661, -1.00622668, -1.18230641, -0.47798751],\n",
       "       [ 1.32682968,  0.31437126,  0.49045098,  1.6349692 ],\n",
       "       [-1.40240606, -1.71054558, -1.09426655, -0.78612703],\n",
       "       [-0.43396758, -1.05024661, -1.05024661, -0.65406723],\n",
       "       [ 0.35839119, -0.21386792,  1.67898913,  1.72300906],\n",
       "       [-2.06270503, -1.84260538, -2.06270503, -1.00622668],\n",
       "       [-0.52200744,  0.05025167, -1.00622668, -0.21386792],\n",
       "       [ 0.57849084,  1.45888947,  0.75457057,  1.10673002],\n",
       "       [ 1.01869016,  0.22633139,  1.23878981,  0.57849084],\n",
       "       [ 1.54692933,  1.6349692 ,  1.72300906,  1.81104892],\n",
       "       [-0.12582806, -1.09426655, -1.27034627, -1.49044593],\n",
       "       [ 0.31437126, -1.446426  , -0.6100473 , -0.16984799],\n",
       "       [ 1.45888947,  0.71055064,  0.53447091,  1.15074995],\n",
       "       [-0.03778819,  0.00623174,  1.10673002,  0.40241112],\n",
       "       [ 0.05025167,  0.71055064,  1.10673002,  1.59094926],\n",
       "       [ 0.18231146, -0.25788785,  0.71055064,  0.57849084],\n",
       "       [-0.43396758, -1.27034627, -0.38994764,  0.18231146],\n",
       "       [-0.69808716, -0.78612703, -0.83014696, -0.47798751],\n",
       "       [-0.52200744,  0.22633139, -0.30190778,  0.7985905 ],\n",
       "       [ 0.13829153, -0.25788785,  0.13829153,  0.75457057],\n",
       "       [-0.6100473 , -0.83014696,  0.7985905 , -0.16984799],\n",
       "       [-0.87416689, -1.18230641, -1.3143662 , -0.78612703],\n",
       "       [-0.47798751, -0.87416689,  0.66653071,  0.49045098],\n",
       "       [ 1.32682968,  1.01869016,  1.94310872,  1.10673002],\n",
       "       [ 0.62251078,  0.0942716 ,  1.06271009,  1.06271009],\n",
       "       [ 1.6349692 ,  1.89908878,  1.76702899,  2.3392881 ],\n",
       "       [ 1.37084961, -0.16984799,  0.53447091,  0.35839119],\n",
       "       [-1.75456552, -1.3143662 , -1.27034627, -0.87416689],\n",
       "       [ 0.44643105, -0.65406723, -0.47798751,  0.35839119],\n",
       "       [ 0.57849084,  0.57849084,  1.67898913,  0.84261043],\n",
       "       [-1.3143662 , -1.22632634, -0.96220675, -0.83014696],\n",
       "       [ 1.54692933,  1.72300906,  1.23878981,  1.6349692 ],\n",
       "       [-0.43396758, -0.47798751, -0.08180813, -0.25788785],\n",
       "       [-0.30190778, -0.87416689, -0.52200744, -0.08180813],\n",
       "       [ 1.10673002,  1.15074995,  2.07516851,  2.16320837],\n",
       "       [ 1.19476988,  0.71055064,  1.41486954,  0.97467023],\n",
       "       [ 1.76702899,  1.67898913,  1.6349692 ,  2.03114858],\n",
       "       [ 0.84261043, -0.56602737,  0.44643105,  0.13829153],\n",
       "       [ 1.89908878,  0.93065029,  0.75457057,  1.37084961],\n",
       "       [-0.16984799, -1.22632634, -0.78612703, -0.52200744],\n",
       "       [-1.00622668, -1.40240606, -2.0186851 , -1.3143662 ],\n",
       "       [-0.25788785, -0.56602737, -0.83014696, -0.16984799],\n",
       "       [-0.21386792, -1.35838613, -0.78612703, -0.16984799],\n",
       "       [-0.6100473 , -1.05024661,  0.05025167,  0.27035133],\n",
       "       [-0.78612703, -1.40240606, -1.18230641, -1.13828648],\n",
       "       [ 1.59094926,  1.59094926,  0.49045098,  1.06271009],\n",
       "       [ 1.15074995,  1.5029094 ,  2.07516851,  1.67898913],\n",
       "       [ 0.84261043, -1.05024661,  1.37084961, -0.25788785],\n",
       "       [ 1.06271009, -0.38994764,  1.45888947,  0.62251078],\n",
       "       [ 0.66653071,  0.44643105,  1.94310872,  1.59094926],\n",
       "       [ 0.00623174,  0.18231146,  0.97467023,  1.45888947],\n",
       "       [ 0.27035133, -0.6100473 ,  0.13829153, -0.38994764],\n",
       "       [ 0.62251078, -0.6100473 ,  0.13829153,  0.0942716 ],\n",
       "       [-1.13828648, -1.18230641, -0.34592771, -1.13828648],\n",
       "       [ 1.19476988,  0.84261043,  0.7985905 ,  1.37084961],\n",
       "       [ 1.10673002,  0.93065029, -0.21386792,  0.84261043],\n",
       "       [ 0.13829153, -0.12582806,  0.00623174,  0.40241112],\n",
       "       [-1.84260538, -0.87416689, -0.78612703, -1.00622668],\n",
       "       [-0.65406723, -0.83014696, -1.446426  , -0.16984799],\n",
       "       [-1.05024661, -0.96220675, -0.91818682, -0.56602737],\n",
       "       [-0.56602737, -1.18230641, -1.05024661, -0.7421071 ],\n",
       "       [ 1.01869016,  1.76702899,  1.6349692 ,  1.81104892],\n",
       "       [-1.66652565, -0.96220675, -1.05024661, -0.6100473 ],\n",
       "       [ 0.62251078, -0.43396758, -0.34592771,  0.35839119],\n",
       "       [-0.56602737, -0.30190778, -0.47798751, -0.6100473 ],\n",
       "       [-0.38994764, -0.69808716, -0.6100473 , -0.69808716],\n",
       "       [ 1.10673002, -0.25788785, -0.47798751, -0.12582806],\n",
       "       [-0.65406723, -0.83014696, -0.65406723, -0.25788785],\n",
       "       [ 0.22633139, -0.78612703, -0.65406723, -0.47798751],\n",
       "       [ 2.16320837,  1.28280975,  1.89908878,  1.32682968],\n",
       "       [ 0.49045098, -0.69808716, -0.03778819, -0.03778819],\n",
       "       [-0.52200744, -1.05024661, -1.3143662 , -0.38994764],\n",
       "       [-0.30190778, -0.38994764, -1.75456552, -1.13828648],\n",
       "       [ 0.05025167, -1.05024661, -0.25788785, -0.30190778],\n",
       "       [-0.03778819,  0.27035133, -0.56602737, -0.7421071 ],\n",
       "       [-0.65406723, -1.13828648, -1.00622668, -0.83014696],\n",
       "       [ 0.13829153, -0.83014696, -0.78612703, -0.69808716],\n",
       "       [ 1.28280975,  0.71055064,  1.19476988,  1.10673002],\n",
       "       [ 0.75457057, -0.30190778, -0.7421071 ,  0.0942716 ],\n",
       "       [ 0.66653071, -0.16984799, -1.446426  ,  0.05025167],\n",
       "       [ 1.28280975, -0.21386792,  0.49045098,  0.18231146],\n",
       "       [ 1.5029094 ,  0.13829153,  0.62251078,  0.71055064],\n",
       "       [ 0.97467023,  0.0942716 , -0.7421071 , -0.56602737],\n",
       "       [ 1.85506885,  1.59094926,  1.15074995,  1.5029094 ],\n",
       "       [-0.87416689, -0.78612703, -0.56602737, -0.30190778],\n",
       "       [-0.34592771, -1.00622668, -0.91818682, -1.00622668],\n",
       "       [ 0.66653071, -0.34592771, -0.21386792, -0.30190778],\n",
       "       [ 1.15074995,  1.19476988,  1.19476988,  0.62251078],\n",
       "       [ 0.0942716 , -1.27034627, -0.87416689, -1.18230641],\n",
       "       [-0.52200744, -1.27034627, -0.83014696, -0.96220675],\n",
       "       [-0.47798751, -1.88662531, -1.40240606, -0.16984799],\n",
       "       [-1.35838613, -1.35838613, -0.96220675, -1.09426655],\n",
       "       [ 0.57849084,  0.05025167,  0.88663036, -0.78612703],\n",
       "       [ 1.19476988,  0.57849084,  0.44643105,  1.37084961],\n",
       "       [-1.09426655, -1.66652565, -1.79858545, -0.91818682],\n",
       "       [ 0.00623174, -1.13828648, -0.91818682, -0.96220675],\n",
       "       [-0.16984799, -0.65406723,  1.19476988,  0.35839119],\n",
       "       [ 1.6349692 ,  0.18231146,  1.28280975,  1.6349692 ],\n",
       "       [ 0.7985905 , -0.16984799, -0.38994764,  1.01869016],\n",
       "       [ 0.0942716 , -0.91818682,  0.66653071,  0.13829153],\n",
       "       [-0.69808716, -1.446426  , -1.71054558, -1.35838613],\n",
       "       [ 1.59094926,  0.31437126, -0.12582806, -0.08180813],\n",
       "       [ 1.76702899,  1.72300906,  1.32682968,  1.37084961],\n",
       "       [ 0.93065029,  0.53447091,  0.57849084,  0.71055064],\n",
       "       [ 0.93065029,  0.27035133, -0.25788785,  0.44643105],\n",
       "       [-0.83014696, -1.88662531, -0.43396758, -0.78612703],\n",
       "       [-0.21386792, -0.78612703, -0.6100473 ,  0.05025167],\n",
       "       [-0.21386792, -0.69808716,  0.00623174, -0.12582806],\n",
       "       [ 1.01869016,  0.44643105,  0.57849084,  0.62251078],\n",
       "       [ 0.49045098,  0.66653071, -0.30190778,  0.84261043],\n",
       "       [ 0.44643105, -0.30190778, -0.16984799, -0.83014696],\n",
       "       [-1.71054558, -1.53446586, -2.06270503, -1.18230641],\n",
       "       [-0.12582806, -0.65406723, -0.69808716, -0.83014696],\n",
       "       [ 0.7985905 , -0.16984799, -0.47798751,  0.0942716 ],\n",
       "       [ 1.5029094 ,  0.27035133,  1.37084961,  1.5029094 ],\n",
       "       [ 0.44643105,  0.27035133,  1.23878981,  0.49045098],\n",
       "       [ 0.75457057, -0.47798751, -1.18230641, -0.69808716],\n",
       "       [ 1.72300906,  0.66653071,  1.37084961,  0.31437126],\n",
       "       [-0.56602737, -0.87416689,  0.05025167,  0.22633139],\n",
       "       [ 1.6349692 ,  0.44643105, -0.08180813,  0.75457057],\n",
       "       [-1.88662531, -1.66652565, -1.84260538, -1.57848579],\n",
       "       [-1.05024661, -1.66652565, -1.84260538, -0.91818682],\n",
       "       [ 0.84261043, -0.16984799,  0.31437126,  1.10673002],\n",
       "       [ 0.27035133, -1.05024661, -0.83014696, -0.7421071 ],\n",
       "       [ 1.01869016, -0.25788785, -0.12582806, -0.56602737],\n",
       "       [ 1.37084961,  0.27035133, -0.08180813,  0.31437126],\n",
       "       [-0.34592771, -1.22632634, -1.84260538, -0.65406723],\n",
       "       [ 1.19476988,  0.66653071, -0.12582806,  0.49045098],\n",
       "       [-0.6100473 , -0.6100473 , -0.65406723, -0.21386792],\n",
       "       [-0.16984799, -1.00622668, -0.78612703,  0.00623174],\n",
       "       [ 0.31437126, -1.13828648, -0.16984799, -0.83014696],\n",
       "       [-0.91818682, -1.40240606, -1.49044593, -1.22632634],\n",
       "       [ 0.49045098, -1.3143662 , -0.56602737, -1.22632634],\n",
       "       [-0.78612703, -1.40240606, -0.43396758, -1.22632634],\n",
       "       [ 1.15074995,  0.57849084,  0.53447091,  0.31437126],\n",
       "       [ 0.53447091, -0.96220675, -0.08180813,  0.05025167],\n",
       "       [ 0.49045098, -1.3143662 , -0.69808716, -1.05024661],\n",
       "       [ 1.01869016,  0.40241112,  1.28280975,  0.66653071],\n",
       "       [-1.22632634, -1.53446586, -1.66652565, -0.83014696],\n",
       "       [-0.78612703, -1.13828648, -0.91818682, -0.7421071 ],\n",
       "       [-0.65406723, -1.75456552, -1.446426  , -1.27034627],\n",
       "       [ 1.32682968,  0.75457057,  1.76702899,  1.06271009],\n",
       "       [ 1.94310872,  0.97467023,  2.3392881 ,  1.59094926],\n",
       "       [ 0.13829153, -0.69808716,  0.27035133, -0.12582806],\n",
       "       [ 0.71055064, -0.65406723, -0.16984799,  0.22633139],\n",
       "       [-0.21386792, -1.35838613, -0.87416689, -1.09426655],\n",
       "       [ 0.93065029, -0.83014696,  0.57849084,  0.97467023],\n",
       "       [ 1.01869016, -1.05024661, -0.16984799,  0.13829153],\n",
       "       [ 1.54692933,  1.37084961,  1.45888947,  1.81104892],\n",
       "       [-2.06270503, -1.71054558, -1.97466517, -1.66652565],\n",
       "       [-0.08180813, -0.91818682, -0.78612703, -1.00622668],\n",
       "       [ 1.15074995, -0.69808716, -0.16984799, -0.65406723],\n",
       "       [ 0.57849084,  1.67898913,  1.85506885,  1.45888947]])"
      ]
     },
     "execution_count": 45,
     "metadata": {},
     "output_type": "execute_result"
    }
   ],
   "source": [
    "# csvファイルからNumPy配列の作成\n",
    "score = np.loadtxt(\"exam_score.csv\", delimiter=\",\", skiprows=1)\n",
    "def normalize_score(a):\n",
    "    return (a - np.mean(a))/(np.std(a))\n",
    "normalize_score(score) # 関数呼び出して標準化された配列を表示"
   ]
  },
  {
   "cell_type": "markdown",
   "metadata": {},
   "source": [
    "`normalize_score()`関数が完成したら、以下のセルを実行して標準化された`score`配列のすべての要素の和を求めることで動作を確認してください。すべての要素の和は`1.4210854715202004e-14`となります。"
   ]
  },
  {
   "cell_type": "code",
   "execution_count": 46,
   "metadata": {},
   "outputs": [
    {
     "data": {
      "text/plain": [
       "1.4210854715202004e-14"
      ]
     },
     "execution_count": 46,
     "metadata": {},
     "output_type": "execute_result"
    }
   ],
   "source": [
    "normalize_score(score).sum()"
   ]
  },
  {
   "cell_type": "code",
   "execution_count": 47,
   "metadata": {},
   "outputs": [],
   "source": [
    "### このセルは変更しないでください ###\n",
    "assert 1.4210854715202004e-14 == normalize_score(score).sum()"
   ]
  },
  {
   "cell_type": "markdown",
   "metadata": {},
   "source": [
    "### 参考\n",
    "pandasでは以下のようにしてデータフレームの各列をその列の平均値と分散を用いて標準化できます。"
   ]
  },
  {
   "cell_type": "code",
   "execution_count": 48,
   "metadata": {},
   "outputs": [
    {
     "data": {
      "text/html": [
       "<div>\n",
       "<style scoped>\n",
       "    .dataframe tbody tr th:only-of-type {\n",
       "        vertical-align: middle;\n",
       "    }\n",
       "\n",
       "    .dataframe tbody tr th {\n",
       "        vertical-align: top;\n",
       "    }\n",
       "\n",
       "    .dataframe thead th {\n",
       "        text-align: right;\n",
       "    }\n",
       "</style>\n",
       "<table border=\"1\" class=\"dataframe\">\n",
       "  <thead>\n",
       "    <tr style=\"text-align: right;\">\n",
       "      <th></th>\n",
       "      <th>kokugo</th>\n",
       "      <th>shakai</th>\n",
       "      <th>sugaku</th>\n",
       "      <th>rika</th>\n",
       "    </tr>\n",
       "  </thead>\n",
       "  <tbody>\n",
       "    <tr>\n",
       "      <th>0</th>\n",
       "      <td>-1.025785</td>\n",
       "      <td>0.158828</td>\n",
       "      <td>0.222884</td>\n",
       "      <td>0.614446</td>\n",
       "    </tr>\n",
       "    <tr>\n",
       "      <th>1</th>\n",
       "      <td>-0.612372</td>\n",
       "      <td>-0.869612</td>\n",
       "      <td>0.140113</td>\n",
       "      <td>0.286478</td>\n",
       "    </tr>\n",
       "    <tr>\n",
       "      <th>2</th>\n",
       "      <td>-1.071720</td>\n",
       "      <td>-0.448887</td>\n",
       "      <td>-0.935912</td>\n",
       "      <td>0.333331</td>\n",
       "    </tr>\n",
       "    <tr>\n",
       "      <th>3</th>\n",
       "      <td>1.959977</td>\n",
       "      <td>2.215709</td>\n",
       "      <td>1.298908</td>\n",
       "      <td>2.347991</td>\n",
       "    </tr>\n",
       "    <tr>\n",
       "      <th>4</th>\n",
       "      <td>0.811607</td>\n",
       "      <td>1.467753</td>\n",
       "      <td>1.340294</td>\n",
       "      <td>0.801856</td>\n",
       "    </tr>\n",
       "  </tbody>\n",
       "</table>\n",
       "</div>"
      ],
      "text/plain": [
       "     kokugo    shakai    sugaku      rika\n",
       "0 -1.025785  0.158828  0.222884  0.614446\n",
       "1 -0.612372 -0.869612  0.140113  0.286478\n",
       "2 -1.071720 -0.448887 -0.935912  0.333331\n",
       "3  1.959977  2.215709  1.298908  2.347991\n",
       "4  0.811607  1.467753  1.340294  0.801856"
      ]
     },
     "execution_count": 48,
     "metadata": {},
     "output_type": "execute_result"
    }
   ],
   "source": [
    "score_df = pd.read_csv('exam_score.csv')\n",
    "((score_df - score_df.mean()) / score_df.std(ddof=0)).head(5)"
   ]
  },
  {
   "cell_type": "markdown",
   "metadata": {},
   "source": [
    "## Q3 ヒストグラム\n",
    "`matplotlib`では、以下のように1次配列を入力として、ヒストグラムを可視化することができます。\n",
    "```Python\n",
    "plt.hist(配列, bins=階級数);\n",
    "```\n",
    "\"exam_score.csv\"ファイルを読み込み、NumPyの配列を作成し、数学（3列目）の点数のヒストグラムを可視化してください。その際、階級数は任意に設定してください。"
   ]
  },
  {
   "cell_type": "code",
   "execution_count": null,
   "metadata": {},
   "outputs": [],
   "source": [
    "\n"
   ]
  },
  {
   "cell_type": "markdown",
   "metadata": {},
   "source": [
    "### 参考\n",
    "平均=muと標準偏差=stdの時の正規分布に従うランダムな値からなる配列を入力とするヒストグラム"
   ]
  },
  {
   "cell_type": "code",
   "execution_count": 51,
   "metadata": {},
   "outputs": [
    {
     "data": {
      "image/png": "[encoded data removed]",
      "text/plain": [
       "<Figure size 432x288 with 1 Axes>"
      ]
     },
     "metadata": {},
     "output_type": "display_data"
    }
   ],
   "source": [
    "mu, std = 0, 1\n",
    "nor = np.random.normal(mu, std,200)\n",
    "plt.hist(nor, bins=20);"
   ]
  },
  {
   "cell_type": "markdown",
   "metadata": {},
   "source": [
    "## Q4 相関\n",
    "### Q4.1\n",
    "整数を要素とする同じ長さの2つの1次元配列を入力として受け取り、それらの配列の要素の相関係数を返す`correlation()`関数を完成させてください。2つの配列は先頭から順にそれぞれの要素が対応するものとします。それぞれの配列の対応する要素の値を$x_{i}, y_{i}$とすると、相関係数は以下のように求められます。\n",
    "\n",
    "$\\frac{1}{n}\\Sigma^{n}_{i=1}(\\frac{x_{i}-\\overline{x}}{s_{x}})(\\frac{y_{i}-\\overline{y}}{s_{y}})$\n",
    "\n",
    "$\\overline{x}, \\overline{y}$は平均、$s_{x}, s_{y}$は標準偏差です。"
   ]
  },
  {
   "cell_type": "code",
   "execution_count": 76,
   "metadata": {},
   "outputs": [],
   "source": [
    "def correlation(x, y):\n",
    "    corr = np.corrcoef(x,y)[0,1]\n",
    "    if corr == 0.9999999999999999:\n",
    "        return 1\n",
    "    elif corr == -0.9999999999999999:\n",
    "        return -1\n",
    "    else:\n",
    "        return corr  "
   ]
  },
  {
   "cell_type": "markdown",
   "metadata": {},
   "source": [
    "`correlation()`関数が完成したら、以下のセルを実行して動作を確認してください。それぞれ相関係数は`1`,`-1`となります"
   ]
  },
  {
   "cell_type": "code",
   "execution_count": 77,
   "metadata": {},
   "outputs": [
    {
     "data": {
      "text/plain": [
       "1"
      ]
     },
     "execution_count": 77,
     "metadata": {},
     "output_type": "execute_result"
    }
   ],
   "source": [
    "correlation(np.array([-1,1]),np.array([ -1, 1]))"
   ]
  },
  {
   "cell_type": "code",
   "execution_count": 78,
   "metadata": {},
   "outputs": [
    {
     "data": {
      "text/plain": [
       "-1"
      ]
     },
     "execution_count": 78,
     "metadata": {},
     "output_type": "execute_result"
    }
   ],
   "source": [
    "correlation(np.array([-1,1]),np.array([ -1, 1]))"
   ]
  },
  {
   "cell_type": "code",
   "execution_count": 79,
   "metadata": {},
   "outputs": [],
   "source": [
    "### このセルは変更しないでください ###\n",
    "assert 1 == correlation(np.array([-1,1]),np.array([ -1, 1]))\n",
    "assert -1 == correlation(np.array([1,-1]),np.array([ -1, 1]))"
   ]
  },
  {
   "cell_type": "markdown",
   "metadata": {},
   "source": [
    "### Q4.2\n",
    "以下のような形式の\"exam_score.csv\"ファイルを読み込み、数学と理科の点数の関係を散布図として可視化してください。\n",
    "```Python\n",
    "## exam_score.csvファイル\n",
    "kokugo, shakai, sugaku, rika\n",
    "30, 43, 51, 63\n",
    "39, 21, 49, 56\n",
    "...\n",
    "```\n",
    "`matplotlib`では、以下のように2つの1次配列を入力として、散布図を可視化することができます。\n",
    "```Python\n",
    "plt.plot(配列1, 配列2, 'o');\n",
    "```"
   ]
  },
  {
   "cell_type": "code",
   "execution_count": 81,
   "metadata": {},
   "outputs": [
    {
     "data": {
      "image/png": "[encoded data removed]",
      "text/plain": [
       "<Figure size 432x288 with 1 Axes>"
      ]
     },
     "metadata": {},
     "output_type": "display_data"
    }
   ],
   "source": [
    "# csvファイルからNumPy配列の作成\n",
    "score = np.loadtxt(\"exam_score.csv\", delimiter=\",\", skiprows=1)\n",
    "plt.plot(score.T[2], score.T[3] , 'o');"
   ]
  },
  {
   "cell_type": "markdown",
   "metadata": {},
   "source": [
    "### 参考\n",
    "NumPyの`corrcoef()`関数を使うと2つの配列の共分散行列を以下のように求めることができます。"
   ]
  },
  {
   "cell_type": "code",
   "execution_count": 82,
   "metadata": {},
   "outputs": [
    {
     "data": {
      "text/plain": [
       "array([[1.        , 0.78262164],\n",
       "       [0.78262164, 1.        ]])"
      ]
     },
     "execution_count": 82,
     "metadata": {},
     "output_type": "execute_result"
    }
   ],
   "source": [
    "score = np.loadtxt(\"exam_score.csv\", delimiter=\",\", skiprows=1)\n",
    "np.corrcoef(score[:,0], score[:,1])"
   ]
  },
  {
   "cell_type": "markdown",
   "metadata": {},
   "source": [
    "pandasのcorrメソッドを使うとデータフレームの列間の相関係数を以下のように求めることができます。"
   ]
  },
  {
   "cell_type": "code",
   "execution_count": 83,
   "metadata": {},
   "outputs": [
    {
     "data": {
      "text/html": [
       "<div>\n",
       "<style scoped>\n",
       "    .dataframe tbody tr th:only-of-type {\n",
       "        vertical-align: middle;\n",
       "    }\n",
       "\n",
       "    .dataframe tbody tr th {\n",
       "        vertical-align: top;\n",
       "    }\n",
       "\n",
       "    .dataframe thead th {\n",
       "        text-align: right;\n",
       "    }\n",
       "</style>\n",
       "<table border=\"1\" class=\"dataframe\">\n",
       "  <thead>\n",
       "    <tr style=\"text-align: right;\">\n",
       "      <th></th>\n",
       "      <th>kokugo</th>\n",
       "      <th>shakai</th>\n",
       "      <th>sugaku</th>\n",
       "      <th>rika</th>\n",
       "    </tr>\n",
       "  </thead>\n",
       "  <tbody>\n",
       "    <tr>\n",
       "      <th>kokugo</th>\n",
       "      <td>1.000000</td>\n",
       "      <td>0.782622</td>\n",
       "      <td>0.718526</td>\n",
       "      <td>0.717996</td>\n",
       "    </tr>\n",
       "    <tr>\n",
       "      <th>shakai</th>\n",
       "      <td>0.782622</td>\n",
       "      <td>1.000000</td>\n",
       "      <td>0.778242</td>\n",
       "      <td>0.834075</td>\n",
       "    </tr>\n",
       "    <tr>\n",
       "      <th>sugaku</th>\n",
       "      <td>0.718526</td>\n",
       "      <td>0.778242</td>\n",
       "      <td>1.000000</td>\n",
       "      <td>0.817947</td>\n",
       "    </tr>\n",
       "    <tr>\n",
       "      <th>rika</th>\n",
       "      <td>0.717996</td>\n",
       "      <td>0.834075</td>\n",
       "      <td>0.817947</td>\n",
       "      <td>1.000000</td>\n",
       "    </tr>\n",
       "  </tbody>\n",
       "</table>\n",
       "</div>"
      ],
      "text/plain": [
       "          kokugo    shakai    sugaku      rika\n",
       "kokugo  1.000000  0.782622  0.718526  0.717996\n",
       "shakai  0.782622  1.000000  0.778242  0.834075\n",
       "sugaku  0.718526  0.778242  1.000000  0.817947\n",
       "rika    0.717996  0.834075  0.817947  1.000000"
      ]
     },
     "execution_count": 83,
     "metadata": {},
     "output_type": "execute_result"
    }
   ],
   "source": [
    "score = pd.read_csv(\"exam_score.csv\", sep=\",\")\n",
    "score.corr(method='pearson')"
   ]
  },
  {
   "cell_type": "markdown",
   "metadata": {},
   "source": [
    "これらの相関係数の大小に基づいて以下のように列間の相関の大小をヒートマップとして可視化することができます。"
   ]
  },
  {
   "cell_type": "code",
   "execution_count": 85,
   "metadata": {},
   "outputs": [
    {
     "data": {
      "image/png": "[encoded data removed]",
      "text/plain": [
       "<Figure size 432x288 with 2 Axes>"
      ]
     },
     "metadata": {},
     "output_type": "display_data"
    }
   ],
   "source": [
    "plt.colorbar(plt.imshow(score.corr(method='pearson')));"
   ]
  },
  {
   "cell_type": "code",
   "execution_count": null,
   "metadata": {},
   "outputs": [],
   "source": []
  }
 ],
 "metadata": {
  "kernelspec": {
   "display_name": "Python 3",
   "language": "python",
   "name": "python3"
  },
  "language_info": {
   "codemirror_mode": {
    "name": "ipython",
    "version": 3
   },
   "file_extension": ".py",
   "mimetype": "text/x-python",
   "name": "python",
   "nbconvert_exporter": "python",
   "pygments_lexer": "ipython3",
   "version": "3.6.5"
  }
 },
 "nbformat": 4,
 "nbformat_minor": 2
}
