{
 "cells": [
  {
   "cell_type": "markdown",
   "metadata": {},
   "source": [
    "# lecture2 データの集計"
   ]
  },
  {
   "cell_type": "code",
   "execution_count": 3,
   "metadata": {},
   "outputs": [],
   "source": [
    "import numpy as np\n",
    "import pandas as pd"
   ]
  },
  {
   "cell_type": "markdown",
   "metadata": {},
   "source": [
    "## Q1"
   ]
  },
  {
   "cell_type": "markdown",
   "metadata": {},
   "source": [
    "入力リストの全ての要素の平均    \n",
    "入力リストの全ての要素の中央値  \n",
    "入力リストの全ての要素の分散  \n",
    "\n",
    "を一つのリストに格納して出力"
   ]
  },
  {
   "cell_type": "code",
   "execution_count": 6,
   "metadata": {},
   "outputs": [],
   "source": [
    "def avg_med_var(input_list):\n",
    "    mean_value=0 #平均値を初期化\n",
    "    med_value=0 # 中央値を初期化\n",
    "    var_value=0 # 分散を初期化\n",
    "    results=[] # 結果のリスト\n",
    "        \n",
    "    input_list.sort() # リストの要素を昇順に並び替え\n",
    "    mid_idx = len(input_list)//2 # リストの中央（長さの半分）のインデックス（必要であれば利用する）\n",
    "    if len(input_list)%2==0:\n",
    "        med_value= (input_list[mid_idx-1] + input_list[mid_idx])/2\n",
    "    else:\n",
    "        med_value = input_list[mid_idx]\n",
    "    \n",
    "    mean_value = sum(input_list)/len(input_list) #平均値\n",
    "    mse_value = 0 # データの値と平均値の差の2乗和を初期化\n",
    "    for i in range(len(input_list)):\n",
    "        mse_value += (input_list[i] - mean_value)**2\n",
    "    var_value = mse_value / len(input_list)\n",
    "    \n",
    "    results.append(mean_value) \n",
    "    results.append(med_value) \n",
    "    results.append(var_value)\n",
    "    return results   "
   ]
  },
  {
   "cell_type": "code",
   "execution_count": 7,
   "metadata": {},
   "outputs": [],
   "source": [
    "# avg_med_var関数の結果を検証するための関数\n",
    "import numpy as np\n",
    "def avg_med_var_test(input_list):\n",
    "    return [np.mean(input_list), np.median(input_list), np.var(input_list)]"
   ]
  },
  {
   "cell_type": "code",
   "execution_count": 8,
   "metadata": {},
   "outputs": [],
   "source": [
    "# 偶数の場合の検算\n",
    "assert avg_med_var([1,4,3,2,5,6,8,7,9,10]) == avg_med_var_test([1,4,3,2,5,6,8,7,9,10])"
   ]
  },
  {
   "cell_type": "code",
   "execution_count": 9,
   "metadata": {},
   "outputs": [],
   "source": [
    "# 奇数の場合の検算\n",
    "assert avg_med_var([1,4,3,2,5,6,8,7,9,10,11]) == avg_med_var_test([1,4,3,2,5,6,8,7,9,10,11])"
   ]
  },
  {
   "cell_type": "markdown",
   "metadata": {},
   "source": [
    "ここで答えが違う場合は\"Assersion error\"が出る。"
   ]
  },
  {
   "cell_type": "markdown",
   "metadata": {},
   "source": [
    "## Q2"
   ]
  },
  {
   "cell_type": "code",
   "execution_count": 12,
   "metadata": {},
   "outputs": [
    {
     "data": {
      "text/html": [
       "<div>\n",
       "<style scoped>\n",
       "    .dataframe tbody tr th:only-of-type {\n",
       "        vertical-align: middle;\n",
       "    }\n",
       "\n",
       "    .dataframe tbody tr th {\n",
       "        vertical-align: top;\n",
       "    }\n",
       "\n",
       "    .dataframe thead th {\n",
       "        text-align: right;\n",
       "    }\n",
       "</style>\n",
       "<table border=\"1\" class=\"dataframe\">\n",
       "  <thead>\n",
       "    <tr style=\"text-align: right;\">\n",
       "      <th></th>\n",
       "      <th>user</th>\n",
       "      <th>kokugo</th>\n",
       "      <th>shakai</th>\n",
       "      <th>sugaku</th>\n",
       "      <th>rika</th>\n",
       "    </tr>\n",
       "  </thead>\n",
       "  <tbody>\n",
       "    <tr>\n",
       "      <th>0</th>\n",
       "      <td>1</td>\n",
       "      <td>30</td>\n",
       "      <td>43</td>\n",
       "      <td>51</td>\n",
       "      <td>63</td>\n",
       "    </tr>\n",
       "    <tr>\n",
       "      <th>1</th>\n",
       "      <td>2</td>\n",
       "      <td>39</td>\n",
       "      <td>21</td>\n",
       "      <td>49</td>\n",
       "      <td>56</td>\n",
       "    </tr>\n",
       "    <tr>\n",
       "      <th>2</th>\n",
       "      <td>3</td>\n",
       "      <td>29</td>\n",
       "      <td>30</td>\n",
       "      <td>23</td>\n",
       "      <td>57</td>\n",
       "    </tr>\n",
       "    <tr>\n",
       "      <th>3</th>\n",
       "      <td>4</td>\n",
       "      <td>95</td>\n",
       "      <td>87</td>\n",
       "      <td>77</td>\n",
       "      <td>100</td>\n",
       "    </tr>\n",
       "    <tr>\n",
       "      <th>4</th>\n",
       "      <td>5</td>\n",
       "      <td>70</td>\n",
       "      <td>71</td>\n",
       "      <td>78</td>\n",
       "      <td>67</td>\n",
       "    </tr>\n",
       "  </tbody>\n",
       "</table>\n",
       "</div>"
      ],
      "text/plain": [
       "   user  kokugo  shakai  sugaku  rika\n",
       "0     1      30      43      51    63\n",
       "1     2      39      21      49    56\n",
       "2     3      29      30      23    57\n",
       "3     4      95      87      77   100\n",
       "4     5      70      71      78    67"
      ]
     },
     "execution_count": 12,
     "metadata": {},
     "output_type": "execute_result"
    }
   ],
   "source": [
    "import pandas as pd\n",
    "score = pd.read_csv('ex2/user_score.csv')\n",
    "score.head(5)"
   ]
  },
  {
   "cell_type": "code",
   "execution_count": 13,
   "metadata": {},
   "outputs": [
    {
     "data": {
      "text/html": [
       "<div>\n",
       "<style scoped>\n",
       "    .dataframe tbody tr th:only-of-type {\n",
       "        vertical-align: middle;\n",
       "    }\n",
       "\n",
       "    .dataframe tbody tr th {\n",
       "        vertical-align: top;\n",
       "    }\n",
       "\n",
       "    .dataframe thead th {\n",
       "        text-align: right;\n",
       "    }\n",
       "</style>\n",
       "<table border=\"1\" class=\"dataframe\">\n",
       "  <thead>\n",
       "    <tr style=\"text-align: right;\">\n",
       "      <th></th>\n",
       "      <th>user</th>\n",
       "      <th>kokugo</th>\n",
       "      <th>shakai</th>\n",
       "      <th>sugaku</th>\n",
       "      <th>rika</th>\n",
       "    </tr>\n",
       "  </thead>\n",
       "  <tbody>\n",
       "    <tr>\n",
       "      <th>count</th>\n",
       "      <td>166.000000</td>\n",
       "      <td>166.000000</td>\n",
       "      <td>166.000000</td>\n",
       "      <td>166.000000</td>\n",
       "      <td>166.000000</td>\n",
       "    </tr>\n",
       "    <tr>\n",
       "      <th>mean</th>\n",
       "      <td>83.500000</td>\n",
       "      <td>52.331325</td>\n",
       "      <td>39.602410</td>\n",
       "      <td>45.614458</td>\n",
       "      <td>49.885542</td>\n",
       "    </tr>\n",
       "    <tr>\n",
       "      <th>std</th>\n",
       "      <td>48.064193</td>\n",
       "      <td>21.835858</td>\n",
       "      <td>21.456335</td>\n",
       "      <td>24.236127</td>\n",
       "      <td>21.408130</td>\n",
       "    </tr>\n",
       "    <tr>\n",
       "      <th>min</th>\n",
       "      <td>1.000000</td>\n",
       "      <td>0.000000</td>\n",
       "      <td>4.000000</td>\n",
       "      <td>0.000000</td>\n",
       "      <td>9.000000</td>\n",
       "    </tr>\n",
       "    <tr>\n",
       "      <th>25%</th>\n",
       "      <td>42.250000</td>\n",
       "      <td>35.000000</td>\n",
       "      <td>23.000000</td>\n",
       "      <td>28.000000</td>\n",
       "      <td>31.000000</td>\n",
       "    </tr>\n",
       "    <tr>\n",
       "      <th>50%</th>\n",
       "      <td>83.500000</td>\n",
       "      <td>53.000000</td>\n",
       "      <td>35.000000</td>\n",
       "      <td>43.000000</td>\n",
       "      <td>49.000000</td>\n",
       "    </tr>\n",
       "    <tr>\n",
       "      <th>75%</th>\n",
       "      <td>124.750000</td>\n",
       "      <td>70.000000</td>\n",
       "      <td>53.750000</td>\n",
       "      <td>63.750000</td>\n",
       "      <td>65.750000</td>\n",
       "    </tr>\n",
       "    <tr>\n",
       "      <th>max</th>\n",
       "      <td>166.000000</td>\n",
       "      <td>96.000000</td>\n",
       "      <td>90.000000</td>\n",
       "      <td>100.000000</td>\n",
       "      <td>100.000000</td>\n",
       "    </tr>\n",
       "  </tbody>\n",
       "</table>\n",
       "</div>"
      ],
      "text/plain": [
       "             user      kokugo      shakai      sugaku        rika\n",
       "count  166.000000  166.000000  166.000000  166.000000  166.000000\n",
       "mean    83.500000   52.331325   39.602410   45.614458   49.885542\n",
       "std     48.064193   21.835858   21.456335   24.236127   21.408130\n",
       "min      1.000000    0.000000    4.000000    0.000000    9.000000\n",
       "25%     42.250000   35.000000   23.000000   28.000000   31.000000\n",
       "50%     83.500000   53.000000   35.000000   43.000000   49.000000\n",
       "75%    124.750000   70.000000   53.750000   63.750000   65.750000\n",
       "max    166.000000   96.000000   90.000000  100.000000  100.000000"
      ]
     },
     "execution_count": 13,
     "metadata": {},
     "output_type": "execute_result"
    }
   ],
   "source": [
    "score.describe()"
   ]
  },
  {
   "cell_type": "markdown",
   "metadata": {},
   "source": [
    "### Q2-1"
   ]
  },
  {
   "cell_type": "markdown",
   "metadata": {},
   "source": [
    "データフレームscoreから各教科の得点がすべて平均点以上であるようなユーザの数を返すabove_mean()関数の作成。"
   ]
  },
  {
   "cell_type": "code",
   "execution_count": 14,
   "metadata": {},
   "outputs": [],
   "source": [
    "def above_mean(df):\n",
    "    return len(df[(df.kokugo>df.kokugo.mean())&(df.shakai>df.shakai.mean())&(df.sugaku>df.sugaku.mean())&(df.rika>df.rika.mean())])"
   ]
  },
  {
   "cell_type": "code",
   "execution_count": 15,
   "metadata": {},
   "outputs": [
    {
     "data": {
      "text/plain": [
       "46"
      ]
     },
     "execution_count": 15,
     "metadata": {},
     "output_type": "execute_result"
    }
   ],
   "source": [
    "above_mean(score)"
   ]
  },
  {
   "cell_type": "markdown",
   "metadata": {},
   "source": [
    "## Q2-2"
   ]
  },
  {
   "cell_type": "markdown",
   "metadata": {},
   "source": [
    "ユーザごとの全教科の得点の総和の値を表すsum列をデータフレームscoreに新たに追加したデータフレームを返すscore_sum()関数の作成。"
   ]
  },
  {
   "cell_type": "code",
   "execution_count": 17,
   "metadata": {},
   "outputs": [],
   "source": [
    "def score_sum(df):\n",
    "    df['sum']= df[['kokugo','shakai','sugaku','rika']].sum(axis=1)\n",
    "    return df"
   ]
  },
  {
   "cell_type": "code",
   "execution_count": 18,
   "metadata": {},
   "outputs": [
    {
     "data": {
      "text/html": [
       "<div>\n",
       "<style scoped>\n",
       "    .dataframe tbody tr th:only-of-type {\n",
       "        vertical-align: middle;\n",
       "    }\n",
       "\n",
       "    .dataframe tbody tr th {\n",
       "        vertical-align: top;\n",
       "    }\n",
       "\n",
       "    .dataframe thead th {\n",
       "        text-align: right;\n",
       "    }\n",
       "</style>\n",
       "<table border=\"1\" class=\"dataframe\">\n",
       "  <thead>\n",
       "    <tr style=\"text-align: right;\">\n",
       "      <th></th>\n",
       "      <th>user</th>\n",
       "      <th>kokugo</th>\n",
       "      <th>shakai</th>\n",
       "      <th>sugaku</th>\n",
       "      <th>rika</th>\n",
       "      <th>sum</th>\n",
       "    </tr>\n",
       "  </thead>\n",
       "  <tbody>\n",
       "    <tr>\n",
       "      <th>0</th>\n",
       "      <td>1</td>\n",
       "      <td>30</td>\n",
       "      <td>43</td>\n",
       "      <td>51</td>\n",
       "      <td>63</td>\n",
       "      <td>187</td>\n",
       "    </tr>\n",
       "    <tr>\n",
       "      <th>1</th>\n",
       "      <td>2</td>\n",
       "      <td>39</td>\n",
       "      <td>21</td>\n",
       "      <td>49</td>\n",
       "      <td>56</td>\n",
       "      <td>165</td>\n",
       "    </tr>\n",
       "    <tr>\n",
       "      <th>2</th>\n",
       "      <td>3</td>\n",
       "      <td>29</td>\n",
       "      <td>30</td>\n",
       "      <td>23</td>\n",
       "      <td>57</td>\n",
       "      <td>139</td>\n",
       "    </tr>\n",
       "    <tr>\n",
       "      <th>3</th>\n",
       "      <td>4</td>\n",
       "      <td>95</td>\n",
       "      <td>87</td>\n",
       "      <td>77</td>\n",
       "      <td>100</td>\n",
       "      <td>359</td>\n",
       "    </tr>\n",
       "    <tr>\n",
       "      <th>4</th>\n",
       "      <td>5</td>\n",
       "      <td>70</td>\n",
       "      <td>71</td>\n",
       "      <td>78</td>\n",
       "      <td>67</td>\n",
       "      <td>286</td>\n",
       "    </tr>\n",
       "  </tbody>\n",
       "</table>\n",
       "</div>"
      ],
      "text/plain": [
       "   user  kokugo  shakai  sugaku  rika  sum\n",
       "0     1      30      43      51    63  187\n",
       "1     2      39      21      49    56  165\n",
       "2     3      29      30      23    57  139\n",
       "3     4      95      87      77   100  359\n",
       "4     5      70      71      78    67  286"
      ]
     },
     "execution_count": 18,
     "metadata": {},
     "output_type": "execute_result"
    }
   ],
   "source": [
    "score = score_sum(score)\n",
    "score.head(5)"
   ]
  },
  {
   "cell_type": "markdown",
   "metadata": {},
   "source": [
    "全教科の合計得点の上位3人の'user'を1位、2位、3位の順に要素として持つリストを返すscore_top3()関数の作成。"
   ]
  },
  {
   "cell_type": "code",
   "execution_count": 20,
   "metadata": {},
   "outputs": [],
   "source": [
    "def score_top3(df):\n",
    "    sorted_df = df.sort_values(by='sum', ascending=False)\n",
    "    results=[]\n",
    "    results.append(sorted_df.user.values[0])\n",
    "    results.append(sorted_df.user.values[1])\n",
    "    results.append(sorted_df.user.values[2])\n",
    "    return results"
   ]
  },
  {
   "cell_type": "code",
   "execution_count": 21,
   "metadata": {},
   "outputs": [
    {
     "data": {
      "text/plain": [
       "[39, 4, 50]"
      ]
     },
     "execution_count": 21,
     "metadata": {},
     "output_type": "execute_result"
    }
   ],
   "source": [
    "score_top3(score)"
   ]
  },
  {
   "cell_type": "markdown",
   "metadata": {},
   "source": [
    "## Q2-3"
   ]
  },
  {
   "cell_type": "markdown",
   "metadata": {},
   "source": [
    "データフレームscoreのsum列を対象に、階級幅50として各階級の度数を要素として持つリストを返すscore_hist()関数の作成。"
   ]
  },
  {
   "cell_type": "code",
   "execution_count": 23,
   "metadata": {},
   "outputs": [
    {
     "data": {
      "text/plain": [
       "[4, 20, 39, 35, 29, 24, 13, 2]"
      ]
     },
     "execution_count": 23,
     "metadata": {},
     "output_type": "execute_result"
    }
   ],
   "source": [
    "def score_hist(df):\n",
    "    results=[]\n",
    "    results.append(df.loc[(df['sum']>=0) & (df['sum']<=50), 'sum'].count())\n",
    "    results.append(df.loc[(df['sum']>=51)&(df['sum']<=100), 'sum'].count())\n",
    "    results.append(df.loc[(df['sum']>=101) & (df['sum']<=150), 'sum'].count())\n",
    "    results.append(df.loc[(df['sum']>=151) & (df['sum']<=200), 'sum'].count())\n",
    "    results.append(df.loc[(df['sum']>=201) & (df['sum']<=250), 'sum'].count())\n",
    "    results.append(df.loc[(df['sum']>=251) & (df['sum']<=300), 'sum'].count())\n",
    "    results.append(df.loc[(df['sum']>=301) & (df['sum']<=350), 'sum'].count())\n",
    "    results.append(df.loc[(df['sum']>=351) & (df['sum']<=400), 'sum'].count())\n",
    "    return results\n",
    "score_hist(score)"
   ]
  },
  {
   "cell_type": "markdown",
   "metadata": {},
   "source": [
    "## Q2-4"
   ]
  },
  {
   "cell_type": "code",
   "execution_count": 26,
   "metadata": {},
   "outputs": [
    {
     "data": {
      "text/html": [
       "<div>\n",
       "<style scoped>\n",
       "    .dataframe tbody tr th:only-of-type {\n",
       "        vertical-align: middle;\n",
       "    }\n",
       "\n",
       "    .dataframe tbody tr th {\n",
       "        vertical-align: top;\n",
       "    }\n",
       "\n",
       "    .dataframe thead th {\n",
       "        text-align: right;\n",
       "    }\n",
       "</style>\n",
       "<table border=\"1\" class=\"dataframe\">\n",
       "  <thead>\n",
       "    <tr style=\"text-align: right;\">\n",
       "      <th></th>\n",
       "      <th>user</th>\n",
       "      <th>class</th>\n",
       "    </tr>\n",
       "  </thead>\n",
       "  <tbody>\n",
       "    <tr>\n",
       "      <th>0</th>\n",
       "      <td>1</td>\n",
       "      <td>C</td>\n",
       "    </tr>\n",
       "    <tr>\n",
       "      <th>1</th>\n",
       "      <td>2</td>\n",
       "      <td>C</td>\n",
       "    </tr>\n",
       "    <tr>\n",
       "      <th>2</th>\n",
       "      <td>3</td>\n",
       "      <td>B</td>\n",
       "    </tr>\n",
       "    <tr>\n",
       "      <th>3</th>\n",
       "      <td>4</td>\n",
       "      <td>C</td>\n",
       "    </tr>\n",
       "    <tr>\n",
       "      <th>4</th>\n",
       "      <td>5</td>\n",
       "      <td>A</td>\n",
       "    </tr>\n",
       "  </tbody>\n",
       "</table>\n",
       "</div>"
      ],
      "text/plain": [
       "   user class\n",
       "0     1     C\n",
       "1     2     C\n",
       "2     3     B\n",
       "3     4     C\n",
       "4     5     A"
      ]
     },
     "execution_count": 26,
     "metadata": {},
     "output_type": "execute_result"
    }
   ],
   "source": [
    "user_class = pd.read_csv('ex2/user_class.csv')\n",
    "user_class.head(5)"
   ]
  },
  {
   "cell_type": "markdown",
   "metadata": {},
   "source": [
    "'user'の列の値をキーに、2つのデータフレーム、user_classとscore、を結合して新しいデータフレームを作成した上で、データフレームの`groupby`メソッドを使って、'class'をインデックス、'class'ごとの'sum'の最高値を列として持つシリーズオブジェクトを返す`score_by_class()`関数を作成。"
   ]
  },
  {
   "cell_type": "code",
   "execution_count": 27,
   "metadata": {},
   "outputs": [],
   "source": [
    "def score_by_class(df1, df2):\n",
    "    df3 =pd.merge(df1, df2, on='user')\n",
    "    return df3[['class', 'sum']].groupby(['class'], as_index=True).max()['sum']"
   ]
  },
  {
   "cell_type": "code",
   "execution_count": 28,
   "metadata": {},
   "outputs": [
    {
     "data": {
      "text/plain": [
       "{'A': 361, 'B': 349, 'C': 359}"
      ]
     },
     "execution_count": 28,
     "metadata": {},
     "output_type": "execute_result"
    }
   ],
   "source": [
    "score_by_class(score, user_class).to_dict()"
   ]
  }
 ],
 "metadata": {
  "kernelspec": {
   "display_name": "Python 3",
   "language": "python",
   "name": "python3"
  },
  "language_info": {
   "codemirror_mode": {
    "name": "ipython",
    "version": 3
   },
   "file_extension": ".py",
   "mimetype": "text/x-python",
   "name": "python",
   "nbconvert_exporter": "python",
   "pygments_lexer": "ipython3",
   "version": "3.6.5"
  }
 },
 "nbformat": 4,
 "nbformat_minor": 2
}
